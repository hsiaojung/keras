{
 "cells": [
  {
   "cell_type": "code",
   "execution_count": 135,
   "metadata": {
    "scrolled": true
   },
   "outputs": [
    {
     "name": "stdout",
     "output_type": "stream",
     "text": [
      "Requirement already satisfied: tensorflow-gpu in ./lib/python3.6/site-packages (1.9.0)\n",
      "Requirement already satisfied: six>=1.10.0 in ./lib/python3.6/site-packages (from tensorflow-gpu) (1.11.0)\n",
      "Requirement already satisfied: grpcio>=1.8.6 in ./lib/python3.6/site-packages (from tensorflow-gpu) (1.13.0)\n",
      "Requirement already satisfied: wheel>=0.26 in ./lib/python3.6/site-packages (from tensorflow-gpu) (0.31.1)\n",
      "Requirement already satisfied: termcolor>=1.1.0 in ./lib/python3.6/site-packages (from tensorflow-gpu) (1.1.0)\n",
      "Requirement already satisfied: protobuf>=3.4.0 in ./lib/python3.6/site-packages (from tensorflow-gpu) (3.6.0)\n",
      "Requirement already satisfied: numpy>=1.13.3 in ./lib/python3.6/site-packages (from tensorflow-gpu) (1.14.3)\n",
      "Requirement already satisfied: gast>=0.2.0 in ./lib/python3.6/site-packages (from tensorflow-gpu) (0.2.0)\n",
      "Requirement already satisfied: absl-py>=0.1.6 in ./lib/python3.6/site-packages (from tensorflow-gpu) (0.3.0)\n",
      "Requirement already satisfied: astor>=0.6.0 in ./lib/python3.6/site-packages (from tensorflow-gpu) (0.7.1)\n",
      "Requirement already satisfied: tensorboard<1.10.0,>=1.9.0 in ./lib/python3.6/site-packages (from tensorflow-gpu) (1.9.0)\n",
      "Requirement already satisfied: setuptools<=39.1.0 in ./lib/python3.6/site-packages (from tensorflow-gpu) (39.1.0)\n",
      "Requirement already satisfied: werkzeug>=0.11.10 in ./lib/python3.6/site-packages (from tensorboard<1.10.0,>=1.9.0->tensorflow-gpu) (0.14.1)\n",
      "Requirement already satisfied: markdown>=2.6.8 in ./lib/python3.6/site-packages (from tensorboard<1.10.0,>=1.9.0->tensorflow-gpu) (2.6.11)\n"
     ]
    }
   ],
   "source": [
    "! pip install tensorflow-gpu"
   ]
  },
  {
   "cell_type": "code",
   "execution_count": 136,
   "metadata": {},
   "outputs": [
    {
     "name": "stdout",
     "output_type": "stream",
     "text": [
      "Requirement already up-to-date: pip in ./lib/python3.6/site-packages (18.0)\r\n"
     ]
    }
   ],
   "source": [
    "! pip install --upgrade pip"
   ]
  },
  {
   "cell_type": "code",
   "execution_count": 137,
   "metadata": {},
   "outputs": [],
   "source": [
    "import tensorflow as tf\n",
    "sess = tf.Session(config=tf.ConfigProto(log_device_placement=True))"
   ]
  },
  {
   "cell_type": "code",
   "execution_count": 138,
   "metadata": {},
   "outputs": [
    {
     "name": "stdout",
     "output_type": "stream",
     "text": [
      "Requirement already satisfied: keras in ./lib/python3.6/site-packages (2.2.2)\n",
      "Requirement already satisfied: h5py in ./lib/python3.6/site-packages (from keras) (2.7.1)\n",
      "Requirement already satisfied: numpy>=1.9.1 in ./lib/python3.6/site-packages (from keras) (1.14.3)\n",
      "Requirement already satisfied: scipy>=0.14 in ./lib/python3.6/site-packages (from keras) (1.1.0)\n",
      "Requirement already satisfied: six>=1.9.0 in ./lib/python3.6/site-packages (from keras) (1.11.0)\n",
      "Requirement already satisfied: keras-applications==1.0.4 in ./lib/python3.6/site-packages (from keras) (1.0.4)\n",
      "Requirement already satisfied: keras-preprocessing==1.0.2 in ./lib/python3.6/site-packages (from keras) (1.0.2)\n",
      "Requirement already satisfied: pyyaml in ./lib/python3.6/site-packages (from keras) (3.12)\n"
     ]
    }
   ],
   "source": [
    "! pip install keras"
   ]
  },
  {
   "cell_type": "code",
   "execution_count": 139,
   "metadata": {},
   "outputs": [
    {
     "name": "stdout",
     "output_type": "stream",
     "text": [
      "[name: \"/device:CPU:0\"\n",
      "device_type: \"CPU\"\n",
      "memory_limit: 268435456\n",
      "locality {\n",
      "}\n",
      "incarnation: 3768918679041342595\n",
      ", name: \"/device:GPU:0\"\n",
      "device_type: \"GPU\"\n",
      "memory_limit: 15866508084\n",
      "locality {\n",
      "  bus_id: 1\n",
      "  links {\n",
      "  }\n",
      "}\n",
      "incarnation: 6330345008068236502\n",
      "physical_device_desc: \"device: 0, name: Tesla P100-PCIE-16GB, pci bus id: 0000:65:00.0, compute capability: 6.0\"\n",
      "]\n"
     ]
    }
   ],
   "source": [
    "from tensorflow.python.client import device_lib\n",
    "\n",
    "print(device_lib.list_local_devices())\n",
    "\n",
    "#https://stackoverflow.com/questions/45662253/can-i-run-keras-model-on-gpu\n"
   ]
  },
  {
   "cell_type": "code",
   "execution_count": 140,
   "metadata": {},
   "outputs": [
    {
     "name": "stdout",
     "output_type": "stream",
     "text": [
      "Requirement already satisfied: opencv-python in ./lib/python3.6/site-packages (3.4.2.17)\r\n",
      "Requirement already satisfied: numpy>=1.11.3 in ./lib/python3.6/site-packages (from opencv-python) (1.14.3)\r\n"
     ]
    }
   ],
   "source": [
    "! pip install opencv-python"
   ]
  }
 ],
 "metadata": {
  "kernelspec": {
   "display_name": "Python 3",
   "language": "python",
   "name": "python3"
  },
  "language_info": {
   "codemirror_mode": {
    "name": "ipython",
    "version": 3
   },
   "file_extension": ".py",
   "mimetype": "text/x-python",
   "name": "python",
   "nbconvert_exporter": "python",
   "pygments_lexer": "ipython3",
   "version": "3.6.5"
  }
 },
 "nbformat": 4,
 "nbformat_minor": 2
}
