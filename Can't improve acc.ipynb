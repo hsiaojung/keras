{
 "cells": [
  {
   "cell_type": "markdown",
   "metadata": {},
   "source": [
    "### New code for 80%\n",
    "\n"
   ]
  },
  {
   "cell_type": "code",
   "execution_count": 366,
   "metadata": {},
   "outputs": [],
   "source": [
    "\n",
    "from keras.preprocessing.image import ImageDataGenerator\n",
    "from keras.models import Sequential\n",
    "from keras.layers import Conv2D, MaxPooling2D\n",
    "from keras.layers import Activation, Dropout, Flatten, Dense\n",
    "from keras import backend as K\n",
    "from keras.callbacks import ModelCheckpoint\n"
   ]
  },
  {
   "cell_type": "code",
   "execution_count": 382,
   "metadata": {},
   "outputs": [],
   "source": [
    "\n",
    "# dimensions of our images.\n",
    "img_width, img_height = 150, 150\n",
    "\n",
    "train_data_dir = '../dataset/training_set/smo'\n",
    "validation_data_dir = '../dataset/test_set/smo'\n",
    "nb_train_samples = 2000\n",
    "nb_validation_samples = 300\n",
    "epochs = 10\n",
    "batch_size = 16\n",
    "\n",
    "if K.image_data_format() == 'channels_first':\n",
    "    input_shape = (3, img_width, img_height)\n",
    "else:\n",
    "    input_shape = (img_width, img_height, 3)"
   ]
  },
  {
   "cell_type": "code",
   "execution_count": 383,
   "metadata": {},
   "outputs": [],
   "source": [
    "\n",
    "model = Sequential()\n",
    "model.add(Conv2D(32, (3, 3), input_shape=input_shape))\n",
    "model.add(Activation('relu'))\n",
    "model.add(MaxPooling2D(pool_size=(2, 2)))\n",
    "\n",
    "model.add(Conv2D(32, (3, 3)))\n",
    "model.add(Activation('relu'))\n",
    "model.add(MaxPooling2D(pool_size=(2, 2)))\n",
    "\n",
    "model.add(Conv2D(64, (3, 3)))\n",
    "model.add(Activation('relu'))\n",
    "model.add(MaxPooling2D(pool_size=(2, 2)))\n",
    "\n",
    "model.add(Flatten())\n",
    "model.add(Dense(64))\n",
    "model.add(Activation('relu'))\n",
    "model.add(Dropout(0.5))\n",
    "model.add(Dense(1))\n",
    "model.add(Activation('sigmoid'))\n",
    "#model.load_weights('../weights.best.hdf5')\n",
    "filepath='../weights.best.hdf5'\n",
    "model.compile(loss='binary_crossentropy',\n",
    "              optimizer='Adam',\n",
    "              metrics=['accuracy'])\n"
   ]
  },
  {
   "cell_type": "code",
   "execution_count": 384,
   "metadata": {},
   "outputs": [],
   "source": [
    "checkpoint = ModelCheckpoint(filepath, monitor='val_acc', verbose=1, save_best_only=True,\n",
    "                            mode='max')\n",
    "callbacks_list = [checkpoint]\n",
    "\n",
    "# this is the augmentation configuration we will use for training\n",
    "train_datagen = ImageDataGenerator(\n",
    "    rescale=1. / 255,\n",
    "    shear_range=0.2,\n",
    "    zoom_range=0.2,\n",
    "    horizontal_flip=True)\n",
    "\n",
    "\n",
    "# this is the augmentation configuration we will use for testing:\n",
    "# only rescaling\n",
    "test_datagen = ImageDataGenerator(rescale=1. / 255)\n"
   ]
  },
  {
   "cell_type": "code",
   "execution_count": 385,
   "metadata": {},
   "outputs": [
    {
     "name": "stdout",
     "output_type": "stream",
     "text": [
      "Found 4299 images belonging to 2 classes.\n"
     ]
    }
   ],
   "source": [
    "train_generator = train_datagen.flow_from_directory(\n",
    "    train_data_dir,\n",
    "    target_size=(img_width, img_height),\n",
    "    batch_size=batch_size,\n",
    "    class_mode='binary')\n"
   ]
  },
  {
   "cell_type": "code",
   "execution_count": 386,
   "metadata": {},
   "outputs": [
    {
     "name": "stdout",
     "output_type": "stream",
     "text": [
      "Found 600 images belonging to 2 classes.\n"
     ]
    }
   ],
   "source": [
    "validation_generator = test_datagen.flow_from_directory(\n",
    "    validation_data_dir,\n",
    "    target_size=(img_width, img_height),\n",
    "    batch_size=batch_size,\n",
    "    class_mode='binary')\n"
   ]
  },
  {
   "cell_type": "code",
   "execution_count": 387,
   "metadata": {
    "scrolled": false
   },
   "outputs": [
    {
     "name": "stdout",
     "output_type": "stream",
     "text": [
      "Epoch 1/10\n",
      "125/125 [==============================] - 11s 90ms/step - loss: 0.6587 - acc: 0.6145 - val_loss: 0.6121 - val_acc: 0.6867\n",
      "\n",
      "Epoch 00001: val_acc improved from -inf to 0.68667, saving model to ../weights.best.hdf5\n",
      "Epoch 2/10\n",
      "125/125 [==============================] - 10s 78ms/step - loss: 0.6336 - acc: 0.6675 - val_loss: 0.6015 - val_acc: 0.7067\n",
      "\n",
      "Epoch 00002: val_acc improved from 0.68667 to 0.70667, saving model to ../weights.best.hdf5\n",
      "Epoch 3/10\n",
      "125/125 [==============================] - 10s 79ms/step - loss: 0.6180 - acc: 0.6726 - val_loss: 0.5985 - val_acc: 0.6950\n",
      "\n",
      "Epoch 00003: val_acc did not improve from 0.70667\n",
      "Epoch 4/10\n",
      "125/125 [==============================] - 10s 78ms/step - loss: 0.6108 - acc: 0.6805 - val_loss: 0.5990 - val_acc: 0.7033\n",
      "\n",
      "Epoch 00004: val_acc did not improve from 0.70667\n",
      "Epoch 5/10\n",
      "125/125 [==============================] - 10s 80ms/step - loss: 0.6072 - acc: 0.6820 - val_loss: 0.6159 - val_acc: 0.6750\n",
      "\n",
      "Epoch 00005: val_acc did not improve from 0.70667\n",
      "Epoch 6/10\n",
      "125/125 [==============================] - 10s 80ms/step - loss: 0.6070 - acc: 0.6805 - val_loss: 0.6110 - val_acc: 0.6933\n",
      "\n",
      "Epoch 00006: val_acc did not improve from 0.70667\n",
      "Epoch 7/10\n",
      "125/125 [==============================] - 10s 80ms/step - loss: 0.6022 - acc: 0.6895 - val_loss: 0.6389 - val_acc: 0.6883\n",
      "\n",
      "Epoch 00007: val_acc did not improve from 0.70667\n",
      "Epoch 8/10\n",
      "125/125 [==============================] - 10s 81ms/step - loss: 0.5763 - acc: 0.7080 - val_loss: 0.6275 - val_acc: 0.6867\n",
      "\n",
      "Epoch 00008: val_acc did not improve from 0.70667\n",
      "Epoch 9/10\n",
      "125/125 [==============================] - 10s 82ms/step - loss: 0.5783 - acc: 0.7080 - val_loss: 0.6002 - val_acc: 0.6933\n",
      "\n",
      "Epoch 00009: val_acc did not improve from 0.70667\n",
      "Epoch 10/10\n",
      "125/125 [==============================] - 10s 81ms/step - loss: 0.5794 - acc: 0.6931 - val_loss: 0.5947 - val_acc: 0.7150\n",
      "\n",
      "Epoch 00010: val_acc improved from 0.70667 to 0.71500, saving model to ../weights.best.hdf5\n"
     ]
    },
    {
     "data": {
      "text/plain": [
       "<keras.callbacks.History at 0x7f9a273ce358>"
      ]
     },
     "execution_count": 387,
     "metadata": {},
     "output_type": "execute_result"
    }
   ],
   "source": [
    "\n",
    "model.fit_generator(\n",
    "    train_generator,\n",
    "    steps_per_epoch=nb_train_samples // batch_size,\n",
    "    #steps_per_epoch=nb_train_samples, \n",
    "    epochs=epochs,\n",
    "    validation_data=validation_generator,\n",
    "    validation_steps=nb_validation_samples // batch_size,\n",
    "    #validation_steps=nb_validation_samples,\n",
    "    callbacks=callbacks_list)\n",
    "\n"
   ]
  },
  {
   "cell_type": "code",
   "execution_count": 388,
   "metadata": {},
   "outputs": [],
   "source": [
    "model.save_weights('smorking.h5')\n"
   ]
  },
  {
   "cell_type": "code",
   "execution_count": 419,
   "metadata": {},
   "outputs": [
    {
     "data": {
      "image/png": "[encoded data removed]",
      "text/plain": [
       "<PIL.Image.Image image mode=RGB size=150x150 at 0x7F9A2450FC18>"
      ]
     },
     "execution_count": 419,
     "metadata": {},
     "output_type": "execute_result"
    }
   ],
   "source": [
    "import numpy as np\n",
    "from keras.preprocessing import image\n",
    "test_image = image.load_img('../dataset/single_prediction/smo/s3.jpg', target_size= (150,150))\n",
    "test_image"
   ]
  },
  {
   "cell_type": "code",
   "execution_count": 420,
   "metadata": {},
   "outputs": [],
   "source": [
    "test_image = image.img_to_array(test_image)\n",
    "\n",
    "#test_image"
   ]
  },
  {
   "cell_type": "code",
   "execution_count": 421,
   "metadata": {},
   "outputs": [
    {
     "data": {
      "text/plain": [
       "numpy.ndarray"
      ]
     },
     "execution_count": 421,
     "metadata": {},
     "output_type": "execute_result"
    }
   ],
   "source": [
    "type(test_image)"
   ]
  },
  {
   "cell_type": "code",
   "execution_count": 422,
   "metadata": {},
   "outputs": [
    {
     "data": {
      "text/plain": [
       "(150, 150, 3)"
      ]
     },
     "execution_count": 422,
     "metadata": {},
     "output_type": "execute_result"
    }
   ],
   "source": [
    "test_image.shape"
   ]
  },
  {
   "cell_type": "code",
   "execution_count": 423,
   "metadata": {},
   "outputs": [],
   "source": [
    "test_image4 = test_image\n",
    "test_image = np.expand_dims(test_image, axis = 0)"
   ]
  },
  {
   "cell_type": "code",
   "execution_count": 424,
   "metadata": {},
   "outputs": [
    {
     "data": {
      "text/plain": [
       "array([[[1, 2, 3],\n",
       "        [4, 5, 6]]])"
      ]
     },
     "execution_count": 424,
     "metadata": {},
     "output_type": "execute_result"
    }
   ],
   "source": [
    "#a = np.array([[1,2,3],[4,5,6]])\n",
    "#a.shape\n",
    "\n",
    "np.expand_dims(a, axis = 0)"
   ]
  },
  {
   "cell_type": "code",
   "execution_count": 425,
   "metadata": {},
   "outputs": [],
   "source": [
    "result = model.predict_classes(test_image)\n"
   ]
  },
  {
   "cell_type": "code",
   "execution_count": 426,
   "metadata": {},
   "outputs": [
    {
     "data": {
      "text/plain": [
       "array([[0]], dtype=int32)"
      ]
     },
     "execution_count": 426,
     "metadata": {},
     "output_type": "execute_result"
    }
   ],
   "source": [
    "result"
   ]
  },
  {
   "cell_type": "code",
   "execution_count": 427,
   "metadata": {},
   "outputs": [
    {
     "ename": "ValueError",
     "evalue": "Error when checking input: expected conv2d_16_input to have 4 dimensions, but got array with shape (150, 150, 3)",
     "output_type": "error",
     "traceback": [
      "\u001b[0;31m---------------------------------------------------------------------------\u001b[0m",
      "\u001b[0;31mValueError\u001b[0m                                Traceback (most recent call last)",
      "\u001b[0;32m<ipython-input-427-32165b6da4dd>\u001b[0m in \u001b[0;36m<module>\u001b[0;34m()\u001b[0m\n\u001b[0;32m----> 1\u001b[0;31m \u001b[0mresult\u001b[0m \u001b[0;34m=\u001b[0m  \u001b[0mmodel\u001b[0m\u001b[0;34m.\u001b[0m\u001b[0mpredict\u001b[0m\u001b[0;34m(\u001b[0m\u001b[0mtest_image4\u001b[0m\u001b[0;34m)\u001b[0m\u001b[0;34m\u001b[0m\u001b[0m\n\u001b[0m",
      "\u001b[0;32m~/work/anaconda3/lib/python3.6/site-packages/keras/engine/training.py\u001b[0m in \u001b[0;36mpredict\u001b[0;34m(self, x, batch_size, verbose, steps)\u001b[0m\n\u001b[1;32m   1145\u001b[0m                              'argument.')\n\u001b[1;32m   1146\u001b[0m         \u001b[0;31m# Validate user data.\u001b[0m\u001b[0;34m\u001b[0m\u001b[0;34m\u001b[0m\u001b[0m\n\u001b[0;32m-> 1147\u001b[0;31m         \u001b[0mx\u001b[0m\u001b[0;34m,\u001b[0m \u001b[0m_\u001b[0m\u001b[0;34m,\u001b[0m \u001b[0m_\u001b[0m \u001b[0;34m=\u001b[0m \u001b[0mself\u001b[0m\u001b[0;34m.\u001b[0m\u001b[0m_standardize_user_data\u001b[0m\u001b[0;34m(\u001b[0m\u001b[0mx\u001b[0m\u001b[0;34m)\u001b[0m\u001b[0;34m\u001b[0m\u001b[0m\n\u001b[0m\u001b[1;32m   1148\u001b[0m         \u001b[0;32mif\u001b[0m \u001b[0mself\u001b[0m\u001b[0;34m.\u001b[0m\u001b[0mstateful\u001b[0m\u001b[0;34m:\u001b[0m\u001b[0;34m\u001b[0m\u001b[0m\n\u001b[1;32m   1149\u001b[0m             \u001b[0;32mif\u001b[0m \u001b[0mx\u001b[0m\u001b[0;34m[\u001b[0m\u001b[0;36m0\u001b[0m\u001b[0;34m]\u001b[0m\u001b[0;34m.\u001b[0m\u001b[0mshape\u001b[0m\u001b[0;34m[\u001b[0m\u001b[0;36m0\u001b[0m\u001b[0;34m]\u001b[0m \u001b[0;34m>\u001b[0m \u001b[0mbatch_size\u001b[0m \u001b[0;32mand\u001b[0m \u001b[0mx\u001b[0m\u001b[0;34m[\u001b[0m\u001b[0;36m0\u001b[0m\u001b[0;34m]\u001b[0m\u001b[0;34m.\u001b[0m\u001b[0mshape\u001b[0m\u001b[0;34m[\u001b[0m\u001b[0;36m0\u001b[0m\u001b[0;34m]\u001b[0m \u001b[0;34m%\u001b[0m \u001b[0mbatch_size\u001b[0m \u001b[0;34m!=\u001b[0m \u001b[0;36m0\u001b[0m\u001b[0;34m:\u001b[0m\u001b[0;34m\u001b[0m\u001b[0m\n",
      "\u001b[0;32m~/work/anaconda3/lib/python3.6/site-packages/keras/engine/training.py\u001b[0m in \u001b[0;36m_standardize_user_data\u001b[0;34m(self, x, y, sample_weight, class_weight, check_array_lengths, batch_size)\u001b[0m\n\u001b[1;32m    747\u001b[0m             \u001b[0mfeed_input_shapes\u001b[0m\u001b[0;34m,\u001b[0m\u001b[0;34m\u001b[0m\u001b[0m\n\u001b[1;32m    748\u001b[0m             \u001b[0mcheck_batch_axis\u001b[0m\u001b[0;34m=\u001b[0m\u001b[0;32mFalse\u001b[0m\u001b[0;34m,\u001b[0m  \u001b[0;31m# Don't enforce the batch size.\u001b[0m\u001b[0;34m\u001b[0m\u001b[0m\n\u001b[0;32m--> 749\u001b[0;31m             exception_prefix='input')\n\u001b[0m\u001b[1;32m    750\u001b[0m \u001b[0;34m\u001b[0m\u001b[0m\n\u001b[1;32m    751\u001b[0m         \u001b[0;32mif\u001b[0m \u001b[0my\u001b[0m \u001b[0;32mis\u001b[0m \u001b[0;32mnot\u001b[0m \u001b[0;32mNone\u001b[0m\u001b[0;34m:\u001b[0m\u001b[0;34m\u001b[0m\u001b[0m\n",
      "\u001b[0;32m~/work/anaconda3/lib/python3.6/site-packages/keras/engine/training_utils.py\u001b[0m in \u001b[0;36mstandardize_input_data\u001b[0;34m(data, names, shapes, check_batch_axis, exception_prefix)\u001b[0m\n\u001b[1;32m    125\u001b[0m                         \u001b[0;34m': expected '\u001b[0m \u001b[0;34m+\u001b[0m \u001b[0mnames\u001b[0m\u001b[0;34m[\u001b[0m\u001b[0mi\u001b[0m\u001b[0;34m]\u001b[0m \u001b[0;34m+\u001b[0m \u001b[0;34m' to have '\u001b[0m \u001b[0;34m+\u001b[0m\u001b[0;34m\u001b[0m\u001b[0m\n\u001b[1;32m    126\u001b[0m                         \u001b[0mstr\u001b[0m\u001b[0;34m(\u001b[0m\u001b[0mlen\u001b[0m\u001b[0;34m(\u001b[0m\u001b[0mshape\u001b[0m\u001b[0;34m)\u001b[0m\u001b[0;34m)\u001b[0m \u001b[0;34m+\u001b[0m \u001b[0;34m' dimensions, but got array '\u001b[0m\u001b[0;34m\u001b[0m\u001b[0m\n\u001b[0;32m--> 127\u001b[0;31m                         'with shape ' + str(data_shape))\n\u001b[0m\u001b[1;32m    128\u001b[0m                 \u001b[0;32mif\u001b[0m \u001b[0;32mnot\u001b[0m \u001b[0mcheck_batch_axis\u001b[0m\u001b[0;34m:\u001b[0m\u001b[0;34m\u001b[0m\u001b[0m\n\u001b[1;32m    129\u001b[0m                     \u001b[0mdata_shape\u001b[0m \u001b[0;34m=\u001b[0m \u001b[0mdata_shape\u001b[0m\u001b[0;34m[\u001b[0m\u001b[0;36m1\u001b[0m\u001b[0;34m:\u001b[0m\u001b[0;34m]\u001b[0m\u001b[0;34m\u001b[0m\u001b[0m\n",
      "\u001b[0;31mValueError\u001b[0m: Error when checking input: expected conv2d_16_input to have 4 dimensions, but got array with shape (150, 150, 3)"
     ]
    }
   ],
   "source": [
    "result =  model.predict(test_image4)"
   ]
  },
  {
   "cell_type": "code",
   "execution_count": 428,
   "metadata": {},
   "outputs": [
    {
     "data": {
      "text/plain": [
       "array([[0]], dtype=int32)"
      ]
     },
     "execution_count": 428,
     "metadata": {},
     "output_type": "execute_result"
    }
   ],
   "source": [
    "result"
   ]
  },
  {
   "cell_type": "code",
   "execution_count": 410,
   "metadata": {},
   "outputs": [
    {
     "data": {
      "text/plain": [
       "array([[0.]], dtype=float32)"
      ]
     },
     "execution_count": 410,
     "metadata": {},
     "output_type": "execute_result"
    }
   ],
   "source": [
    "import numpy as np\n",
    "model.predict(np.expand_dims(test_image4, axis=0))"
   ]
  },
  {
   "cell_type": "code",
   "execution_count": 314,
   "metadata": {},
   "outputs": [
    {
     "name": "stdout",
     "output_type": "stream",
     "text": [
      "Requirement already up-to-date: keras in ./lib/python3.6/site-packages (2.2.2)\n",
      "Requirement already satisfied, skipping upgrade: pyyaml in ./lib/python3.6/site-packages (from keras) (3.12)\n",
      "Requirement already satisfied, skipping upgrade: numpy>=1.9.1 in ./lib/python3.6/site-packages (from keras) (1.14.3)\n",
      "Requirement already satisfied, skipping upgrade: six>=1.9.0 in ./lib/python3.6/site-packages (from keras) (1.11.0)\n",
      "Requirement already satisfied, skipping upgrade: keras-applications==1.0.4 in ./lib/python3.6/site-packages (from keras) (1.0.4)\n",
      "Requirement already satisfied, skipping upgrade: h5py in ./lib/python3.6/site-packages (from keras) (2.7.1)\n",
      "Requirement already satisfied, skipping upgrade: keras-preprocessing==1.0.2 in ./lib/python3.6/site-packages (from keras) (1.0.2)\n",
      "Requirement already satisfied, skipping upgrade: scipy>=0.14 in ./lib/python3.6/site-packages (from keras) (1.1.0)\n"
     ]
    }
   ],
   "source": [
    " !pip install --upgrade keras"
   ]
  },
  {
   "cell_type": "markdown",
   "metadata": {},
   "source": [
    "### New Code for 90%"
   ]
  },
  {
   "cell_type": "code",
   "execution_count": 349,
   "metadata": {},
   "outputs": [],
   "source": [
    "from keras import applications\n",
    "from keras.preprocessing.image import ImageDataGenerator\n",
    "from keras import optimizers\n",
    "from keras.models import Sequential\n",
    "from keras.layers import Dropout, Flatten, Dense\n",
    "from keras.callbacks import ModelCheckpoint\n",
    "\n",
    "\n",
    "# path to the model weights files.\n",
    "weights_path = 'vgg16_weights.h5'\n",
    "#top_model_weights_path = 'fc_model.h5'\n",
    "# dimensions of our images.\n",
    "img_width, img_height = 150, 150\n"
   ]
  },
  {
   "cell_type": "code",
   "execution_count": 350,
   "metadata": {},
   "outputs": [],
   "source": [
    "train_data_dir = 'dataset/training_set/smo'\n",
    "validation_data_dir = 'dataset/test_set/smo'\n",
    "nb_train_samples = 2000\n",
    "nb_validation_samples = 300\n",
    "epochs = 50\n",
    "batch_size = 16"
   ]
  },
  {
   "cell_type": "code",
   "execution_count": 353,
   "metadata": {},
   "outputs": [
    {
     "name": "stdout",
     "output_type": "stream",
     "text": [
      "Model loaded.\n"
     ]
    }
   ],
   "source": [
    "# build the VGG16 network\n",
    "# dimensions of our images.\n",
    "\n",
    "#model = applications.VGG16(weights='imagenet', include_top=False)\n",
    "model = applications.VGG16(weights='imagenet', include_top=False, input_shape=(150, 150, 3))\n",
    "print('Model loaded.')"
   ]
  },
  {
   "cell_type": "code",
   "execution_count": 354,
   "metadata": {},
   "outputs": [],
   "source": [
    "# build a classifier model to put on top of the convolutional model\n",
    "top_model = Sequential()\n",
    "top_model.add(Flatten(input_shape=model.output_shape[1:]))\n",
    "top_model.add(Dense(256, activation='relu'))\n",
    "top_model.add(Dropout(0.5))\n",
    "top_model.add(Dense(1, activation='sigmoid'))\n"
   ]
  },
  {
   "cell_type": "code",
   "execution_count": null,
   "metadata": {},
   "outputs": [],
   "source": []
  },
  {
   "cell_type": "code",
   "execution_count": 355,
   "metadata": {},
   "outputs": [
    {
     "name": "stdout",
     "output_type": "stream",
     "text": [
      "Found 4299 images belonging to 2 classes.\n",
      "Found 600 images belonging to 2 classes.\n"
     ]
    }
   ],
   "source": [
    "\n",
    "# set the first 25 layers (up to the last conv block)\n",
    "# to non-trainable (weights will not be updated)\n",
    "for layer in model.layers[:25]:\n",
    "    layer.trainable = False\n",
    "\n",
    "# compile the model with a SGD/momentum optimizer\n",
    "# and a very slow learning rate.\n",
    "model.compile(loss='binary_crossentropy',\n",
    "              optimizer=optimizers.SGD(lr=1e-4, momentum=0.9),\n",
    "              metrics=['accuracy'])\n",
    "\n",
    "# prepare data augmentation configuration\n",
    "train_datagen = ImageDataGenerator(\n",
    "    rescale=1. / 255,\n",
    "    shear_range=0.2,\n",
    "    zoom_range=0.2,\n",
    "    horizontal_flip=True)\n",
    "\n",
    "test_datagen = ImageDataGenerator(rescale=1. / 255)\n",
    "\n",
    "train_generator = train_datagen.flow_from_directory(\n",
    "    train_data_dir,\n",
    "    target_size=(img_height, img_width),\n",
    "    batch_size=batch_size,\n",
    "    class_mode='binary')\n",
    "\n",
    "validation_generator = test_datagen.flow_from_directory(\n",
    "    validation_data_dir,\n",
    "    target_size=(img_height, img_width),\n",
    "    batch_size=batch_size,\n",
    "    class_mode='binary')"
   ]
  },
  {
   "cell_type": "code",
   "execution_count": null,
   "metadata": {},
   "outputs": [],
   "source": [
    "# fine-tune the model\n",
    "model.fit_generator(\n",
    "    train_generator,\n",
    "    samples_per_epoch=nb_train_samples,\n",
    "    epochs=epochs,\n",
    "    validation_data=validation_generator,\n",
    "    nb_val_samples=nb_validation_samples,\n",
    "    "
   ]
  },
  {
   "cell_type": "markdown",
   "metadata": {},
   "source": [
    "###  New Code 909090\n"
   ]
  },
  {
   "cell_type": "code",
   "execution_count": 659,
   "metadata": {},
   "outputs": [
    {
     "name": "stdout",
     "output_type": "stream",
     "text": [
      "base_model loaded.\n"
     ]
    }
   ],
   "source": [
    "from keras import applications\n",
    "from keras.preprocessing.image import ImageDataGenerator\n",
    "from keras import optimizers\n",
    "from keras.models import Sequential\n",
    "from keras.models import Model\n",
    "from keras.layers import Dropout, Flatten, Dense\n",
    "from keras.callbacks import ModelCheckpoint\n",
    "\n",
    "\n",
    "# path to the model weights files.\n",
    "weights_path = '../vgg16_weights.h5'\n",
    "top_model_weights_path = '../every.best.hdf5'\n",
    "filepath='../every.best.hdf5'\n",
    "# dimensions of our images.\n",
    "img_width, img_height = 150, 150\n",
    "\n",
    "train_data_dir = '../dataset/training_set/smo'\n",
    "validation_data_dir = '../dataset/test_set/smo'\n",
    "\n",
    "nb_train_samples = 2000\n",
    "nb_validation_samples = 300\n",
    "epochs = 30\n",
    "batch_size = 16\n",
    "\n",
    "# build the VGG16 network\n",
    "#model = applications.VGG16(weights='imagenet', include_top=False, input_shape=(150,150,3))\n",
    "base_model = applications.VGG16(weights='imagenet', include_top=False, input_shape=(img_width, img_height, 3))\n",
    "print('base_model loaded.')"
   ]
  },
  {
   "cell_type": "code",
   "execution_count": 660,
   "metadata": {},
   "outputs": [],
   "source": [
    "# build a classifier model to put on top of the convolutional model\n",
    "#top_model.load_weights(weights_path)\n",
    "top_model = Sequential()\n",
    "top_model.add(Flatten(input_shape=base_model.output_shape[1:]))\n",
    "top_model.add(Dense(256, activation='relu'))\n",
    "top_model.add(Dropout(0.5))\n",
    "top_model.add(Dense(1, activation='sigmoid'))\n",
    "\n",
    "# note that it is necessary to start with a fully-trained\n",
    "# classifier, including the top classifier,\n",
    "# in order to successfully do fine-tuning\n",
    "#top_model.load_weights(weights_path)\n",
    "\n",
    "\n",
    "\n",
    "# add the model on top of the convolutional base\n",
    "# model.add(top_model)\n",
    "model = Model(inputs=base_model.input, outputs=top_model(base_model.output))\n",
    "#model.load_weights(weights_path)"
   ]
  },
  {
   "cell_type": "code",
   "execution_count": 661,
   "metadata": {},
   "outputs": [],
   "source": [
    "# set the first 25 layers (up to the last conv block)\n",
    "# to non-trainable (weights will not be updated)\n",
    "for layer in model.layers[:15]:    #if using 25, it mean it does not train anything!\n",
    "    layer.trainable = False"
   ]
  },
  {
   "cell_type": "code",
   "execution_count": 662,
   "metadata": {},
   "outputs": [],
   "source": [
    "\n",
    "# compile the model with a SGD/momentum optimizer\n",
    "# and a very slow learning rate.\n",
    "model.compile(loss='binary_crossentropy',\n",
    "              optimizer=optimizers.SGD(lr=1e-4, momentum=0.9),\n",
    "              metrics=['accuracy'])"
   ]
  },
  {
   "cell_type": "code",
   "execution_count": 663,
   "metadata": {},
   "outputs": [],
   "source": [
    "# prepare data augmentation configuration\n",
    "train_datagen = ImageDataGenerator(\n",
    "    rescale=1. / 255,\n",
    "    shear_range=0.2,\n",
    "    zoom_range=0.2,\n",
    "    horizontal_flip=True)"
   ]
  },
  {
   "cell_type": "code",
   "execution_count": 664,
   "metadata": {},
   "outputs": [],
   "source": [
    "test_datagen = ImageDataGenerator(rescale=1. / 255)"
   ]
  },
  {
   "cell_type": "code",
   "execution_count": 665,
   "metadata": {},
   "outputs": [
    {
     "name": "stdout",
     "output_type": "stream",
     "text": [
      "Found 4299 images belonging to 2 classes.\n",
      "Found 600 images belonging to 2 classes.\n"
     ]
    }
   ],
   "source": [
    "\n",
    "train_generator = train_datagen.flow_from_directory(\n",
    "    train_data_dir,\n",
    "    target_size=(img_height, img_width),\n",
    "    batch_size=batch_size,\n",
    "    class_mode='binary')\n",
    "\n",
    "validation_generator = test_datagen.flow_from_directory(\n",
    "    validation_data_dir,\n",
    "    target_size=(img_height, img_width),\n",
    "    batch_size=batch_size,\n",
    "    class_mode='binary')"
   ]
  },
  {
   "cell_type": "code",
   "execution_count": 666,
   "metadata": {},
   "outputs": [
    {
     "name": "stdout",
     "output_type": "stream",
     "text": [
      "Epoch 1/30\n",
      "125/125 [==============================] - 13s 102ms/step - loss: 0.6894 - acc: 0.5805 - val_loss: 0.5637 - val_acc: 0.7250\n",
      "\n",
      "Epoch 00001: val_acc improved from -inf to 0.72500, saving model to ../every.best.hdf5\n",
      "Epoch 2/30\n",
      "125/125 [==============================] - 10s 83ms/step - loss: 0.5441 - acc: 0.7260 - val_loss: 0.5078 - val_acc: 0.7533\n",
      "\n",
      "Epoch 00002: val_acc improved from 0.72500 to 0.75333, saving model to ../every.best.hdf5\n",
      "Epoch 3/30\n",
      "125/125 [==============================] - 10s 84ms/step - loss: 0.5027 - acc: 0.7655 - val_loss: 0.4947 - val_acc: 0.7600\n",
      "\n",
      "Epoch 00003: val_acc improved from 0.75333 to 0.76000, saving model to ../every.best.hdf5\n",
      "Epoch 4/30\n",
      "125/125 [==============================] - 10s 83ms/step - loss: 0.4702 - acc: 0.7823 - val_loss: 0.4760 - val_acc: 0.7750\n",
      "\n",
      "Epoch 00004: val_acc improved from 0.76000 to 0.77500, saving model to ../every.best.hdf5\n",
      "Epoch 5/30\n",
      "125/125 [==============================] - 11s 85ms/step - loss: 0.4708 - acc: 0.7825 - val_loss: 0.4664 - val_acc: 0.7700\n",
      "\n",
      "Epoch 00005: val_acc did not improve from 0.77500\n",
      "Epoch 6/30\n",
      "125/125 [==============================] - 10s 84ms/step - loss: 0.4418 - acc: 0.7970 - val_loss: 0.5014 - val_acc: 0.7750\n",
      "\n",
      "Epoch 00006: val_acc did not improve from 0.77500\n",
      "Epoch 7/30\n",
      "125/125 [==============================] - 11s 85ms/step - loss: 0.4336 - acc: 0.8030 - val_loss: 0.4483 - val_acc: 0.8017\n",
      "\n",
      "Epoch 00007: val_acc improved from 0.77500 to 0.80167, saving model to ../every.best.hdf5\n",
      "Epoch 8/30\n",
      "125/125 [==============================] - 10s 84ms/step - loss: 0.4323 - acc: 0.8138 - val_loss: 0.4381 - val_acc: 0.7900\n",
      "\n",
      "Epoch 00008: val_acc did not improve from 0.80167\n",
      "Epoch 9/30\n",
      "125/125 [==============================] - 11s 86ms/step - loss: 0.4131 - acc: 0.8050 - val_loss: 0.4409 - val_acc: 0.8050\n",
      "\n",
      "Epoch 00009: val_acc improved from 0.80167 to 0.80500, saving model to ../every.best.hdf5\n",
      "Epoch 10/30\n",
      "125/125 [==============================] - 11s 85ms/step - loss: 0.4062 - acc: 0.8085 - val_loss: 0.4290 - val_acc: 0.8083\n",
      "\n",
      "Epoch 00010: val_acc improved from 0.80500 to 0.80833, saving model to ../every.best.hdf5\n",
      "Epoch 11/30\n",
      "125/125 [==============================] - 11s 85ms/step - loss: 0.4055 - acc: 0.8165 - val_loss: 0.4400 - val_acc: 0.8050\n",
      "\n",
      "Epoch 00011: val_acc did not improve from 0.80833\n",
      "Epoch 12/30\n",
      "125/125 [==============================] - 11s 86ms/step - loss: 0.3825 - acc: 0.8275 - val_loss: 0.4287 - val_acc: 0.8133\n",
      "\n",
      "Epoch 00012: val_acc improved from 0.80833 to 0.81333, saving model to ../every.best.hdf5\n",
      "Epoch 13/30\n",
      "125/125 [==============================] - 11s 86ms/step - loss: 0.3967 - acc: 0.8225 - val_loss: 0.4130 - val_acc: 0.8283\n",
      "\n",
      "Epoch 00013: val_acc improved from 0.81333 to 0.82833, saving model to ../every.best.hdf5\n",
      "Epoch 14/30\n",
      "125/125 [==============================] - 10s 84ms/step - loss: 0.3678 - acc: 0.8463 - val_loss: 0.4077 - val_acc: 0.8283\n",
      "\n",
      "Epoch 00014: val_acc did not improve from 0.82833\n",
      "Epoch 15/30\n",
      "125/125 [==============================] - 11s 85ms/step - loss: 0.3745 - acc: 0.8305 - val_loss: 0.4261 - val_acc: 0.8167\n",
      "\n",
      "Epoch 00015: val_acc did not improve from 0.82833\n",
      "Epoch 16/30\n",
      "125/125 [==============================] - 10s 84ms/step - loss: 0.3599 - acc: 0.8330 - val_loss: 0.4125 - val_acc: 0.8367\n",
      "\n",
      "Epoch 00016: val_acc improved from 0.82833 to 0.83667, saving model to ../every.best.hdf5\n",
      "Epoch 17/30\n",
      "125/125 [==============================] - 10s 79ms/step - loss: 0.3493 - acc: 0.8445 - val_loss: 0.4113 - val_acc: 0.8317\n",
      "\n",
      "Epoch 00017: val_acc did not improve from 0.83667\n",
      "Epoch 18/30\n",
      "125/125 [==============================] - 10s 81ms/step - loss: 0.3518 - acc: 0.8485 - val_loss: 0.3967 - val_acc: 0.8233\n",
      "\n",
      "Epoch 00018: val_acc did not improve from 0.83667\n",
      "Epoch 19/30\n",
      "125/125 [==============================] - 10s 81ms/step - loss: 0.3550 - acc: 0.8448 - val_loss: 0.3960 - val_acc: 0.8250\n",
      "\n",
      "Epoch 00019: val_acc did not improve from 0.83667\n",
      "Epoch 20/30\n",
      "125/125 [==============================] - 10s 84ms/step - loss: 0.3525 - acc: 0.8485 - val_loss: 0.3948 - val_acc: 0.8383\n",
      "\n",
      "Epoch 00020: val_acc improved from 0.83667 to 0.83833, saving model to ../every.best.hdf5\n",
      "Epoch 21/30\n",
      "125/125 [==============================] - 10s 83ms/step - loss: 0.3312 - acc: 0.8588 - val_loss: 0.4204 - val_acc: 0.8167\n",
      "\n",
      "Epoch 00021: val_acc did not improve from 0.83833\n",
      "Epoch 22/30\n",
      "125/125 [==============================] - 10s 83ms/step - loss: 0.3431 - acc: 0.8475 - val_loss: 0.3824 - val_acc: 0.8417\n",
      "\n",
      "Epoch 00022: val_acc improved from 0.83833 to 0.84167, saving model to ../every.best.hdf5\n",
      "Epoch 23/30\n",
      "125/125 [==============================] - 10s 82ms/step - loss: 0.3281 - acc: 0.8565 - val_loss: 0.3787 - val_acc: 0.8483\n",
      "\n",
      "Epoch 00023: val_acc improved from 0.84167 to 0.84833, saving model to ../every.best.hdf5\n",
      "Epoch 24/30\n",
      "125/125 [==============================] - 10s 84ms/step - loss: 0.3366 - acc: 0.8580 - val_loss: 0.3811 - val_acc: 0.8417\n",
      "\n",
      "Epoch 00024: val_acc did not improve from 0.84833\n",
      "Epoch 25/30\n",
      "125/125 [==============================] - 10s 83ms/step - loss: 0.3234 - acc: 0.8615 - val_loss: 0.3869 - val_acc: 0.8467\n",
      "\n",
      "Epoch 00025: val_acc did not improve from 0.84833\n",
      "Epoch 26/30\n",
      "125/125 [==============================] - 11s 86ms/step - loss: 0.3272 - acc: 0.8635 - val_loss: 0.4098 - val_acc: 0.8267\n",
      "\n",
      "Epoch 00026: val_acc did not improve from 0.84833\n",
      "Epoch 27/30\n",
      "125/125 [==============================] - 10s 83ms/step - loss: 0.3068 - acc: 0.8705 - val_loss: 0.3991 - val_acc: 0.8333\n",
      "\n",
      "Epoch 00027: val_acc did not improve from 0.84833\n",
      "Epoch 28/30\n",
      "125/125 [==============================] - 10s 84ms/step - loss: 0.3212 - acc: 0.8608 - val_loss: 0.3759 - val_acc: 0.8417\n",
      "\n",
      "Epoch 00028: val_acc did not improve from 0.84833\n",
      "Epoch 29/30\n",
      "125/125 [==============================] - 10s 82ms/step - loss: 0.2904 - acc: 0.8800 - val_loss: 0.3812 - val_acc: 0.8433\n",
      "\n",
      "Epoch 00029: val_acc did not improve from 0.84833\n",
      "Epoch 30/30\n",
      "125/125 [==============================] - 10s 82ms/step - loss: 0.3077 - acc: 0.8675 - val_loss: 0.3871 - val_acc: 0.8433\n",
      "\n",
      "Epoch 00030: val_acc did not improve from 0.84833\n"
     ]
    }
   ],
   "source": [
    "# fine-tune the model\n",
    "checkpoint = ModelCheckpoint(filepath, monitor='val_acc', verbose=1, save_best_only=True,\n",
    "                            mode='max')\n",
    "callbacks_list = [checkpoint]\n",
    "\n",
    "\n",
    "\n",
    "train_history=model.fit_generator(\n",
    "    train_generator,\n",
    "    steps_per_epoch=nb_train_samples  // batch_size,  \n",
    "    epochs=epochs,\n",
    "    validation_data=validation_generator,\n",
    "    validation_steps=nb_validation_samples  // batch_size,\n",
    "    callbacks=callbacks_list)\n"
   ]
  },
  {
   "cell_type": "code",
   "execution_count": 608,
   "metadata": {},
   "outputs": [],
   "source": [
    "import matplotlib.pyplot as plt\n",
    "def show_train_history(train_acc,test_acc):\n",
    "    plt.plot(train_history.history[train_acc])\n",
    "    plt.plot(train_history.history[test_acc])\n",
    "    plt.title('Train History')\n",
    "    plt.ylabel('Accuracy')\n",
    "    plt.xlabel('Epoch')\n",
    "    plt.legend(['train', 'test'], loc='upper left')\n",
    "    plt.show()\n",
    "model.save_weights(top_model_weights_path)\n",
    "#model.save_weights('every.best.hdf5')"
   ]
  },
  {
   "cell_type": "code",
   "execution_count": 609,
   "metadata": {},
   "outputs": [
    {
     "data": {
      "image/png": "[encoded data removed]",
      "text/plain": [
       "<Figure size 432x288 with 1 Axes>"
      ]
     },
     "metadata": {},
     "output_type": "display_data"
    }
   ],
   "source": [
    "show_train_history('acc','val_acc')"
   ]
  },
  {
   "cell_type": "code",
   "execution_count": 610,
   "metadata": {},
   "outputs": [],
   "source": [
    "# 顯示訓練成果(分數)\n",
    "#scores = model.evaluate(train_generator, validation_generator)  "
   ]
  },
  {
   "cell_type": "code",
   "execution_count": 655,
   "metadata": {},
   "outputs": [
    {
     "data": {
      "image/png": "[encoded data removed]",
      "text/plain": [
       "<PIL.Image.Image image mode=RGB size=150x150 at 0x7F9A0666A6A0>"
      ]
     },
     "execution_count": 655,
     "metadata": {},
     "output_type": "execute_result"
    }
   ],
   "source": [
    "import numpy as np\n",
    "from keras.preprocessing import image\n",
    "test_image = image.load_img('../dataset/single_prediction/smo/n2.jpg', target_size= (150,150))\n",
    "test_image"
   ]
  },
  {
   "cell_type": "code",
   "execution_count": 656,
   "metadata": {},
   "outputs": [],
   "source": [
    "test_image = image.img_to_array(test_image)\n",
    "\n",
    "inputarray = test_image[np.newaxis,...] # dimension added to fit input size\n"
   ]
  },
  {
   "cell_type": "code",
   "execution_count": 657,
   "metadata": {},
   "outputs": [],
   "source": [
    "result =  model.predict(inputarray)"
   ]
  },
  {
   "cell_type": "code",
   "execution_count": 658,
   "metadata": {},
   "outputs": [
    {
     "name": "stdout",
     "output_type": "stream",
     "text": [
      "[[5.178614e-14]]\n",
      "Predicted=%s [[5.178614e-14]]\n"
     ]
    }
   ],
   "source": [
    "print(result)\n",
    "print(\"Predicted=%s\", result)"
   ]
  },
  {
   "cell_type": "markdown",
   "metadata": {},
   "source": [
    "### other code"
   ]
  },
  {
   "cell_type": "code",
   "execution_count": 567,
   "metadata": {},
   "outputs": [
    {
     "data": {
      "text/plain": [
       "(2, 3)"
      ]
     },
     "execution_count": 567,
     "metadata": {},
     "output_type": "execute_result"
    }
   ],
   "source": [
    "test_image2 = np.expand_dims(test_image, axis = 0)\n",
    "a = np.array([[1,2,3],[4,5,6]])\n",
    "a.shape\n",
    "#"
   ]
  },
  {
   "cell_type": "code",
   "execution_count": 568,
   "metadata": {},
   "outputs": [
    {
     "data": {
      "text/plain": [
       "array([[[[242., 242., 242.],\n",
       "         [236., 236., 236.],\n",
       "         [229., 229., 229.],\n",
       "         ...,\n",
       "         [209., 209., 209.],\n",
       "         [209., 209., 209.],\n",
       "         [209., 209., 209.]],\n",
       "\n",
       "        [[242., 242., 242.],\n",
       "         [236., 236., 236.],\n",
       "         [229., 229., 229.],\n",
       "         ...,\n",
       "         [210., 210., 210.],\n",
       "         [209., 209., 209.],\n",
       "         [209., 209., 209.]],\n",
       "\n",
       "        [[242., 242., 242.],\n",
       "         [236., 236., 236.],\n",
       "         [229., 229., 229.],\n",
       "         ...,\n",
       "         [210., 210., 210.],\n",
       "         [209., 209., 209.],\n",
       "         [209., 209., 209.]],\n",
       "\n",
       "        ...,\n",
       "\n",
       "        [[244., 232., 220.],\n",
       "         [223., 213., 201.],\n",
       "         [221., 217., 205.],\n",
       "         ...,\n",
       "         [242., 240., 225.],\n",
       "         [236., 236., 228.],\n",
       "         [232., 232., 224.]],\n",
       "\n",
       "        [[233., 234., 218.],\n",
       "         [216., 217., 203.],\n",
       "         [227., 220., 210.],\n",
       "         ...,\n",
       "         [235., 230., 211.],\n",
       "         [238., 232., 220.],\n",
       "         [238., 232., 220.]],\n",
       "\n",
       "        [[233., 234., 218.],\n",
       "         [216., 217., 203.],\n",
       "         [227., 220., 210.],\n",
       "         ...,\n",
       "         [239., 234., 215.],\n",
       "         [238., 232., 220.],\n",
       "         [238., 232., 220.]]]], dtype=float32)"
      ]
     },
     "execution_count": 568,
     "metadata": {},
     "output_type": "execute_result"
    }
   ],
   "source": [
    "np.expand_dims(a, axis = 0)\n",
    "\n",
    "np.array(test_image2)"
   ]
  },
  {
   "cell_type": "code",
   "execution_count": 538,
   "metadata": {},
   "outputs": [],
   "source": [
    "test_image3 = np.array(test_image2)"
   ]
  },
  {
   "cell_type": "code",
   "execution_count": 539,
   "metadata": {},
   "outputs": [],
   "source": [
    "result =  model.predict(test_image3)"
   ]
  },
  {
   "cell_type": "code",
   "execution_count": 540,
   "metadata": {},
   "outputs": [
    {
     "name": "stdout",
     "output_type": "stream",
     "text": [
      "[[1.]]\n",
      "result=%s [[1.]]\n"
     ]
    }
   ],
   "source": [
    "print(result)\n",
    "print(\"result=%s\", result)\n"
   ]
  },
  {
   "cell_type": "code",
   "execution_count": 513,
   "metadata": {},
   "outputs": [
    {
     "name": "stdout",
     "output_type": "stream",
     "text": [
      "[[9.011003e-24]]\n",
      "\n",
      "acc: [[9.011003e-24]]\n",
      "\n",
      "acc: 0.00%\n"
     ]
    }
   ],
   "source": [
    "# Evaluate the model and save the results into a dictionary\n",
    "#test_data = np.expand_dims(test_image, axis=0)\n",
    "#metrics = model.evaluate(test_data, batch_size=40)\n",
    "#print(metrics['accuracy'])\n",
    "print(100 * result)\n",
    "print(\"\\n%s: %s\" % (model.metrics_names[1], np.array_str(result*100)))\n",
    "print(\"\\n%s: %.2f%%\" % (model.metrics_names[1], result[0]*100))\n"
   ]
  },
  {
   "cell_type": "markdown",
   "metadata": {
    "code_folding": []
   },
   "source": [
    "### other code \n"
   ]
  },
  {
   "cell_type": "code",
   "execution_count": 485,
   "metadata": {},
   "outputs": [
    {
     "data": {
      "text/plain": [
       "array([[1.]], dtype=float32)"
      ]
     },
     "execution_count": 485,
     "metadata": {},
     "output_type": "execute_result"
    }
   ],
   "source": [
    "import numpy as np\n",
    "model.predict(np.expand_dims(test_image, axis=0))"
   ]
  },
  {
   "cell_type": "code",
   "execution_count": 486,
   "metadata": {},
   "outputs": [
    {
     "name": "stdout",
     "output_type": "stream",
     "text": [
      "[[3.236911e-17]]\n",
      "\n",
      "acc: [[3.236911e-17]]\n",
      "\n",
      "acc: 0.00%\n"
     ]
    }
   ],
   "source": [
    "# Evaluate the model and save the results into a dictionary\n",
    "#test_data = np.expand_dims(test_image, axis=0)\n",
    "#metrics = model.evaluate(test_data, batch_size=40)\n",
    "#print(metrics['accuracy'])\n",
    "print(100 * predictions)\n",
    "print(\"\\n%s: %s\" % (model.metrics_names[1], np.array_str(predictions*100)))\n",
    "print(\"\\n%s: %.2f%%\" % (model.metrics_names[1], predictions[0]*100))\n"
   ]
  },
  {
   "cell_type": "code",
   "execution_count": 487,
   "metadata": {},
   "outputs": [
    {
     "ename": "TypeError",
     "evalue": "'int' object is not iterable",
     "output_type": "error",
     "traceback": [
      "\u001b[0;31m---------------------------------------------------------------------------\u001b[0m",
      "\u001b[0;31mTypeError\u001b[0m                                 Traceback (most recent call last)",
      "\u001b[0;32m<ipython-input-487-da5b4a70dfdc>\u001b[0m in \u001b[0;36m<module>\u001b[0;34m()\u001b[0m\n\u001b[1;32m      3\u001b[0m \u001b[0mpredictions\u001b[0m \u001b[0;34m=\u001b[0m \u001b[0mmodel\u001b[0m\u001b[0;34m.\u001b[0m\u001b[0mpredict\u001b[0m\u001b[0;34m(\u001b[0m\u001b[0mnp\u001b[0m\u001b[0;34m.\u001b[0m\u001b[0mexpand_dims\u001b[0m\u001b[0;34m(\u001b[0m\u001b[0mtest_image\u001b[0m\u001b[0;34m,\u001b[0m \u001b[0maxis\u001b[0m\u001b[0;34m=\u001b[0m\u001b[0;36m0\u001b[0m\u001b[0;34m)\u001b[0m\u001b[0;34m)\u001b[0m\u001b[0;34m\u001b[0m\u001b[0m\n\u001b[1;32m      4\u001b[0m \u001b[0mbreed_predictions\u001b[0m \u001b[0;34m=\u001b[0m \u001b[0;34m[\u001b[0m\u001b[0mnp\u001b[0m\u001b[0;34m.\u001b[0m\u001b[0margmax\u001b[0m\u001b[0;34m(\u001b[0m\u001b[0mprediction\u001b[0m\u001b[0;34m)\u001b[0m \u001b[0;32mfor\u001b[0m \u001b[0mprediction\u001b[0m \u001b[0;32min\u001b[0m \u001b[0mpredictions\u001b[0m\u001b[0;34m]\u001b[0m\u001b[0;34m\u001b[0m\u001b[0m\n\u001b[0;32m----> 5\u001b[0;31m \u001b[0mbreed_true_labels\u001b[0m \u001b[0;34m=\u001b[0m \u001b[0;34m[\u001b[0m\u001b[0mnp\u001b[0m\u001b[0;34m.\u001b[0m\u001b[0margmax\u001b[0m\u001b[0;34m(\u001b[0m\u001b[0mtrue_label\u001b[0m\u001b[0;34m)\u001b[0m \u001b[0;32mfor\u001b[0m \u001b[0mtrue_label\u001b[0m \u001b[0;32min\u001b[0m \u001b[0mnb_validation_samples\u001b[0m\u001b[0;34m]\u001b[0m\u001b[0;34m\u001b[0m\u001b[0m\n\u001b[0m\u001b[1;32m      6\u001b[0m \u001b[0mprint\u001b[0m\u001b[0;34m(\u001b[0m\u001b[0;34m'Test accuracy: %.4f%%'\u001b[0m \u001b[0;34m%\u001b[0m \u001b[0;34m(\u001b[0m\u001b[0maccuracy_score\u001b[0m\u001b[0;34m(\u001b[0m\u001b[0mbreed_true_labels\u001b[0m\u001b[0;34m,\u001b[0m \u001b[0mbreed_predictions\u001b[0m\u001b[0;34m)\u001b[0m \u001b[0;34m*\u001b[0m \u001b[0;36m100\u001b[0m\u001b[0;34m)\u001b[0m\u001b[0;34m)\u001b[0m\u001b[0;34m\u001b[0m\u001b[0m\n",
      "\u001b[0;31mTypeError\u001b[0m: 'int' object is not iterable"
     ]
    }
   ],
   "source": [
    "from sklearn.metrics import accuracy_score\n",
    "\n",
    "predictions = model.predict(np.expand_dims(test_image, axis=0))\n",
    "breed_predictions = [np.argmax(prediction) for prediction in predictions]\n",
    "breed_true_labels = [np.argmax(true_label) for true_label in nb_validation_samples]\n",
    "print('Test accuracy: %.4f%%' % (accuracy_score(breed_true_labels, breed_predictions) * 100))"
   ]
  },
  {
   "cell_type": "code",
   "execution_count": null,
   "metadata": {},
   "outputs": [],
   "source": [
    "predictions = [float(round(x)) for x in probabilities]\n",
    "accuracy = numpy.mean(predictions == Y)\n",
    "print(\"Prediction Accuracy: %.2f%%\" % (accuracy*100))"
   ]
  },
  {
   "cell_type": "code",
   "execution_count": null,
   "metadata": {},
   "outputs": [],
   "source": []
  },
  {
   "cell_type": "code",
   "execution_count": null,
   "metadata": {},
   "outputs": [],
   "source": []
  },
  {
   "cell_type": "code",
   "execution_count": null,
   "metadata": {},
   "outputs": [],
   "source": []
  },
  {
   "cell_type": "code",
   "execution_count": null,
   "metadata": {},
   "outputs": [],
   "source": []
  },
  {
   "cell_type": "code",
   "execution_count": null,
   "metadata": {},
   "outputs": [],
   "source": []
  },
  {
   "cell_type": "code",
   "execution_count": null,
   "metadata": {},
   "outputs": [],
   "source": []
  },
  {
   "cell_type": "code",
   "execution_count": null,
   "metadata": {},
   "outputs": [],
   "source": []
  },
  {
   "cell_type": "code",
   "execution_count": null,
   "metadata": {},
   "outputs": [],
   "source": []
  },
  {
   "cell_type": "code",
   "execution_count": null,
   "metadata": {},
   "outputs": [],
   "source": []
  },
  {
   "cell_type": "code",
   "execution_count": null,
   "metadata": {},
   "outputs": [],
   "source": []
  }
 ],
 "metadata": {
  "kernelspec": {
   "display_name": "Python 3",
   "language": "python",
   "name": "python3"
  },
  "language_info": {
   "codemirror_mode": {
    "name": "ipython",
    "version": 3
   },
   "file_extension": ".py",
   "mimetype": "text/x-python",
   "name": "python",
   "nbconvert_exporter": "python",
   "pygments_lexer": "ipython3",
   "version": "3.6.5"
  }
 },
 "nbformat": 4,
 "nbformat_minor": 2
}
