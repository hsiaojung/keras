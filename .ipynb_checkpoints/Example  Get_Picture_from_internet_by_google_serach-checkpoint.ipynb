{
 "cells": [
  {
   "cell_type": "code",
   "execution_count": 1,
   "metadata": {},
   "outputs": [],
   "source": [
    "import requests\n",
    "from bs4 import BeautifulSoup\n",
    "res = requests.get('https://www.google.com.tw/search?ei=WchSW_n6H4Gg-Qb815eQBA&yv=3&q=%E6%8A%BD%E7%85%99&safe=off&tbm=isch&vet=10ahUKEwi5i-DMvq_cAhUBUN4KHfzrBUIQuT0IuAEoAQ.WchSW_n6H4Gg-Qb815eQBA.i&ved=0ahUKEwi5i-DMvq_cAhUBUN4KHfzrBUIQuT0IuAEoAQ&ijn=3&start=300&asearch=ichunk&async=_id:rg_s,_pms:s,_fmt:pc')\n",
    "soup = BeautifulSoup(res.text, 'lxml') #lxml解析器\n"
   ]
  },
  {
   "cell_type": "code",
   "execution_count": 2,
   "metadata": {},
   "outputs": [],
   "source": [
    "#print(res.text)\n"
   ]
  },
  {
   "cell_type": "code",
   "execution_count": 3,
   "metadata": {},
   "outputs": [
    {
     "name": "stdout",
     "output_type": "stream",
     "text": [
      "https://encrypted-tbn0.gstatic.com/images?q=tbn:ANd9GcRMiPFApmBBkQW_GpDekCNUEnu8VtZZU_swYz5_lv7L69V4wMoz\n",
      "https://encrypted-tbn0.gstatic.com/images?q=tbn:ANd9GcSdta1X9tugY7o914j8yO7I4mWLRrBMho9vdN26TQH2z1v_m-4cnQ\n",
      "https://encrypted-tbn0.gstatic.com/images?q=tbn:ANd9GcSIpOO8izbqYLNIiX3JkLPbFctwGWU4GgnOs-0B5noRQUI40ldfmg\n",
      "https://encrypted-tbn0.gstatic.com/images?q=tbn:ANd9GcQoI2nRBAid9n9WzFtu5g2CngVww4pzZikVCVSgpPSPSqjDsvjlRw\n",
      "https://encrypted-tbn0.gstatic.com/images?q=tbn:ANd9GcQ3wLUtvs3K9UF0WlYbzXlsKzeQqUZTfbUDYb_z3xWBs0z07aq0aw\n",
      "https://encrypted-tbn0.gstatic.com/images?q=tbn:ANd9GcT_wJXaPO0waT4Jf-F-pJWSsZfUKqN2Esvu5ljh5KsXQKq5zbhMbg\n",
      "https://encrypted-tbn0.gstatic.com/images?q=tbn:ANd9GcT-PZ34LwEGjr5BSJCvTpyDb01taLqpbOTHOyoTp_AkrB1cisdQ\n",
      "https://encrypted-tbn0.gstatic.com/images?q=tbn:ANd9GcSkHWdGS_siTYSa7xrpd3-fEgTP3c7xIwDbE1jXYj7mb910UYiVEA\n",
      "https://encrypted-tbn0.gstatic.com/images?q=tbn:ANd9GcSHIriwPr61Y9sJMHnK40sqXNXVSOp_n6BmD3xXtuDOc73E-jR7OA\n",
      "https://encrypted-tbn0.gstatic.com/images?q=tbn:ANd9GcQ9fLuocaL_4Gz3uKdLpwMRh4j7fJMF4wXXd26r6EXJVaeo_Lq3\n",
      "https://encrypted-tbn0.gstatic.com/images?q=tbn:ANd9GcTmpLYHiQm0JaIrhaBnKE9udcGWk_EmLGpw1TNXUzkf-w7g4P4h\n",
      "https://encrypted-tbn0.gstatic.com/images?q=tbn:ANd9GcQBgNCu_Mzg89K-kMoe0KdqNkHiphBkUS8q5pnfbWhPU3-JnIwDhA\n",
      "https://encrypted-tbn0.gstatic.com/images?q=tbn:ANd9GcRcitB4kwP1kK5e_AfOctyXikp8O4BBp2aFm2AmgzbU1lDiZJ2Hzw\n",
      "https://encrypted-tbn0.gstatic.com/images?q=tbn:ANd9GcTBVIbSQDfkaThCmnoQDl2sLziH-X2Y_Ggao8Qi9njgD79RKLtT\n",
      "https://encrypted-tbn0.gstatic.com/images?q=tbn:ANd9GcSUEu4dHqKnPGZuK-jDp2MpbNbn-JnGrm8Qd9S1QuFgfdsyMNQQvg\n",
      "https://encrypted-tbn0.gstatic.com/images?q=tbn:ANd9GcRC-vEsZgDPNMwmihTSVdzSgPr9NC7QkckDfPE4sIFUGu4gTDsxZw\n",
      "https://encrypted-tbn0.gstatic.com/images?q=tbn:ANd9GcS4F8l_GwEby5ytKimCA3LLRk-FvHcMvkjKrsSsOT49qXokb5w8Zg\n",
      "https://encrypted-tbn0.gstatic.com/images?q=tbn:ANd9GcQLmg7ZV5fsO9FJo552GjxzxvjCEfqa1Trw1-Wcaho_LFEvF045aw\n",
      "https://encrypted-tbn0.gstatic.com/images?q=tbn:ANd9GcSHo-bkJmpiYySiZ_IEvMpX5jaghldPYko_WyU7Th8LXWfAAJUxaA\n",
      "https://encrypted-tbn0.gstatic.com/images?q=tbn:ANd9GcTKfNnzi1GXPqfaptve7YQjbUjPGWS8x9kDmESLhM-2cCv52JjpeA\n",
      "https://encrypted-tbn0.gstatic.com/images?q=tbn:ANd9GcTW0rgnBAiKAub7S7FdBeVhUjq6gmn6--SEj_El8U9QrVbsw6gQtQ\n",
      "https://encrypted-tbn0.gstatic.com/images?q=tbn:ANd9GcSgidA0GmPFVOPKBnF4MaJ8vqtQ2Vb-ID0ehgwlKuxZNZh_r05v8A\n",
      "https://encrypted-tbn0.gstatic.com/images?q=tbn:ANd9GcRHq6fPoe7BN9mnnwyOlsAAf6dAp4DwS0gJ1joqvPC9Fc7l8kjz\n",
      "https://encrypted-tbn0.gstatic.com/images?q=tbn:ANd9GcSCrKw7rdOdxjH-E_Mcdj7S3xhz60ACRfUGoCZiaPOXEeOI1mavpw\n",
      "https://encrypted-tbn0.gstatic.com/images?q=tbn:ANd9GcQortDuK0LeTnFNaHlDrR_kCMdBJm__hv2DgrWoGPjACg_O5DCd\n",
      "https://encrypted-tbn0.gstatic.com/images?q=tbn:ANd9GcQaAylrtI02m18IbDHhJPhkkqxhBDa-jUvgsP_xY-ZGMCdl_oy_Vg\n",
      "https://encrypted-tbn0.gstatic.com/images?q=tbn:ANd9GcQkqEFGH8q1WtVRfvuUxV0tfYkwZ-5x741OiG5kpOMUencAWonB6A\n",
      "https://encrypted-tbn0.gstatic.com/images?q=tbn:ANd9GcRwVPapjzhOX_oHItrC4t0nvqyXkMW2g-_PJCC10oIhZqq5g86Y\n",
      "https://encrypted-tbn0.gstatic.com/images?q=tbn:ANd9GcTsO74sRE3mrasZElkqILUDAd1fzbDKmTPsSK7mAFSs8etLKhVc\n",
      "https://encrypted-tbn0.gstatic.com/images?q=tbn:ANd9GcQIqTaqyrv7ewDsykVOKHYUWGyqfY3kTyXDS6Jr9qU1abrjdoUc\n",
      "https://encrypted-tbn0.gstatic.com/images?q=tbn:ANd9GcR70om240xDscmDGGklBygRPNwsY1VDf9szIwUFBouELNM2PjqItg\n",
      "https://encrypted-tbn0.gstatic.com/images?q=tbn:ANd9GcTu6TQqE2D47u5lq01tKOUsInoL_1QUeWoxDY0qYPv3476_7CVAHQ\n",
      "https://encrypted-tbn0.gstatic.com/images?q=tbn:ANd9GcSNKRe8UAgTqeAzOXzQskbz8BnODYS752s8RCNxdn3rQMTRP7XZoQ\n",
      "https://encrypted-tbn0.gstatic.com/images?q=tbn:ANd9GcThAJ6X1bbEdqJFXBJ_OtDRTMQ-W5oEhW4NyhWFHb3rMNZNU1_t\n",
      "https://encrypted-tbn0.gstatic.com/images?q=tbn:ANd9GcTzVl9Q4QkHjJo27GGfz57ExgkM-fUbcTtB8Pw89f_ggyBtzypXIQ\n",
      "https://encrypted-tbn0.gstatic.com/images?q=tbn:ANd9GcSKTdTPYs8AKavuxKTFIGncaIiKCxt9vtDnsXRbbU2RsutZGGkR\n",
      "https://encrypted-tbn0.gstatic.com/images?q=tbn:ANd9GcR_SruMWHT5BPgspknmgDfhTwA3MJSHcsw9AmjdDpqi9NHGocka\n",
      "https://encrypted-tbn0.gstatic.com/images?q=tbn:ANd9GcT-PZ2T1Y4MhH13yZ_nt42oIGZSWnMwMp_5mLSGo-yWfnRanQF4\n",
      "https://encrypted-tbn0.gstatic.com/images?q=tbn:ANd9GcRkLUdsq0QmYmTc8mi6xcO62DHYw5VXTu_wZHjG7CCCRLecVlNe\n",
      "https://encrypted-tbn0.gstatic.com/images?q=tbn:ANd9GcTYlbs8_QfbUZTuOJcGUaI2KzcZ2-yIO0vZYIWVP1m6bMa0jVmF\n",
      "https://encrypted-tbn0.gstatic.com/images?q=tbn:ANd9GcScDEmLEa5DJw0Bq14S56mPqNPD8swuFEg1Xx5WGR6HZQ_Rlj0Y\n",
      "https://encrypted-tbn0.gstatic.com/images?q=tbn:ANd9GcT1QZEo8jja7hlVmKToq8ZhzvnShDk_cF1TPWSjrA1BC6TXgRyw\n",
      "https://encrypted-tbn0.gstatic.com/images?q=tbn:ANd9GcSILMYfJlqjM8z_Gf6pt9Y6O5HChVpP_M5rZ64CxlN4pTWIgH0E\n",
      "https://encrypted-tbn0.gstatic.com/images?q=tbn:ANd9GcR-M7529Mc2DEkuCP0wCwkGIWbqVcXVTgsYxmAcmuXwhnZyeN-3FQ\n",
      "https://encrypted-tbn0.gstatic.com/images?q=tbn:ANd9GcS7--TwrQjcPutrWiadD_tetohb1yJnOz899NLsrV3zTjuf7mPiew\n",
      "https://encrypted-tbn0.gstatic.com/images?q=tbn:ANd9GcQtH0WRek0e28ZIrJQT59efZk704pgQEHRl_Jo1x2gkLgY1-Q7i\n",
      "https://encrypted-tbn0.gstatic.com/images?q=tbn:ANd9GcS15WS7fByZlGwbBaGQI6YeYmYMtD6PtmXCBLWTVJsJsGxNDx6XmA\n",
      "https://encrypted-tbn0.gstatic.com/images?q=tbn:ANd9GcS3WoROs-6bypcYNPadz1IGU4jWtOtydyj50QPEjImj8LMxBlOzQA\n",
      "https://encrypted-tbn0.gstatic.com/images?q=tbn:ANd9GcR1IlW5DVytOUw_mj6CoO-DhqPhVfFZRNogoHuA0DFXefTh5IOPSg\n",
      "https://encrypted-tbn0.gstatic.com/images?q=tbn:ANd9GcSDiONcfS3a8xyuV4rdNSxTV1gJcyhluRR3vDrCa4Et5SmkIR4dlA\n",
      "https://encrypted-tbn0.gstatic.com/images?q=tbn:ANd9GcSSkgvYe6w_hHrfjRcD3tXceexL0uTlNMpiWfD6pPrIa9k4ztY2\n",
      "https://encrypted-tbn0.gstatic.com/images?q=tbn:ANd9GcTnpl5Z12F-skxbBLAxvvU9GNpF_zT2pCMo_JZyQsFZResJn4Jo\n",
      "https://encrypted-tbn0.gstatic.com/images?q=tbn:ANd9GcRkM0KPXoEvb0LpVssf1QdbbvZbxwOv9FrF68_q_37qCBIJEk6vfg\n",
      "https://encrypted-tbn0.gstatic.com/images?q=tbn:ANd9GcRRI3purQIG1WE6SryYlxdtt61E9Xy4D2WagizYtpttLDMi14Yqlw\n",
      "https://encrypted-tbn0.gstatic.com/images?q=tbn:ANd9GcQQBn76VqD9e4q-WkGtlALa_1yvuBsNpSdUVVyjxJz5rMBK1WsP\n",
      "https://encrypted-tbn0.gstatic.com/images?q=tbn:ANd9GcTHmeybANxgn7Kr0Qp2l5ZmX2DMZbE9JpEMV22gFeQrF74IyV_09g\n",
      "https://encrypted-tbn0.gstatic.com/images?q=tbn:ANd9GcRO14U8jSJUChQx-PnEr8W11TpUSWm07wsQPv37tVkKDKaHSjn6-w\n",
      "https://encrypted-tbn0.gstatic.com/images?q=tbn:ANd9GcQtjUFOUk1tgg_UN8493eKr0XlKuxjrT-TJwSahv_HKjQkNqyMo\n",
      "https://encrypted-tbn0.gstatic.com/images?q=tbn:ANd9GcQc-aPWGpFmNmMetUIKFwQZwW2NbmMRC4rsPUmYaBA9sRAZPgKI\n",
      "https://encrypted-tbn0.gstatic.com/images?q=tbn:ANd9GcQdx6B0a4qGNLL5iR5ld06H-tK1ZUtlgoOyGI-Tk6XeiaLCTypX\n",
      "https://encrypted-tbn0.gstatic.com/images?q=tbn:ANd9GcSA9b0ZKPxqQ9b7qeGIg3h0T5xMxkjoAUes6lHdgdWBtyV3ggS7hg\n",
      "https://encrypted-tbn0.gstatic.com/images?q=tbn:ANd9GcSBj0pujBVw6BAGLtWgUlMASGMuCcXkMMz8roPIGAAIblbuRkc2Nw\n",
      "https://encrypted-tbn0.gstatic.com/images?q=tbn:ANd9GcSv32TG97T76CzaLdPAmmMbU4JK5tt4DkSuJOoa6my1OCTPnN5dIg\n",
      "https://encrypted-tbn0.gstatic.com/images?q=tbn:ANd9GcSq2pzuFLHPaECubtu_vXk9n5y2o456ZVkLmIa5jYBYxfH6Fzbn-g\n",
      "https://encrypted-tbn0.gstatic.com/images?q=tbn:ANd9GcRFJeGmaUnn-uLdiZu-S7BRcMULvug_anxWc_wYFg7_GfmXy7csGA\n",
      "https://encrypted-tbn0.gstatic.com/images?q=tbn:ANd9GcQiOKfgnOof9pu1IrIhcilfHpYkwaLdQRfaC6KX8v1xoubNeAUrdA\n",
      "https://encrypted-tbn0.gstatic.com/images?q=tbn:ANd9GcSnn6ssG6XYq1pq4o1zqQMRfO9m8q3lNN9oOsjnKJvwWlJmLCRN3Q\n",
      "https://encrypted-tbn0.gstatic.com/images?q=tbn:ANd9GcSKFTqa8iRe80mwo4bQ2BHwmpCg0ZAtyeXQklLT4l0JX3iyKpQZMA\n",
      "https://encrypted-tbn0.gstatic.com/images?q=tbn:ANd9GcRRKu_whmhb-byrHmE8JUtmFK7MOPxP0QpRf3TFJP7DUBSFVrG5\n",
      "https://encrypted-tbn0.gstatic.com/images?q=tbn:ANd9GcT3GtaOIP7S8kfl93xjE6bJtFurd0hfifDnT6B3gd8k_-iurg5H\n",
      "https://encrypted-tbn0.gstatic.com/images?q=tbn:ANd9GcQpO21kX3n3fPLNlfap9x9SWKxOkGKVBg9UOBa-ZH0Qq_yxfk1y\n",
      "https://encrypted-tbn0.gstatic.com/images?q=tbn:ANd9GcQkTvMeSwJx3pWvoS19xNDSN4GolMLi-vXLQUHTqHPjb9kJt8TVow\n",
      "https://encrypted-tbn0.gstatic.com/images?q=tbn:ANd9GcQdtWF4Oi2aUQ0XnKDuNh6ZB-WaRLiaN4gjwsxIAGpO3icUaUvLyQ\n",
      "https://encrypted-tbn0.gstatic.com/images?q=tbn:ANd9GcTxYmTgmbbUF6ii7fkxIZrskITFgrLgk46jlMS3Ak_t70-y-zhM\n",
      "https://encrypted-tbn0.gstatic.com/images?q=tbn:ANd9GcSK7zNo0Mcw39yuLzQC3ki3DBRSX5CLC-3Gf7FEPkvJI_LZIc12Zg\n",
      "https://encrypted-tbn0.gstatic.com/images?q=tbn:ANd9GcS8cg5BTX7cHETKcepECtKYFKXIaBAD02uUnaG6cJx5cQEcvXUVIQ\n",
      "https://encrypted-tbn0.gstatic.com/images?q=tbn:ANd9GcQJWZbpGGG2j0tXhbJWdrF_iQpSuMQSDK1iHJgqcuoT3KxEcKy1\n",
      "https://encrypted-tbn0.gstatic.com/images?q=tbn:ANd9GcQyRUBWlxgJ-Bq3cxSGU-VlWrdRd4tyNdDOWRuUyW2sp9Qs2f-9hA\n",
      "https://encrypted-tbn0.gstatic.com/images?q=tbn:ANd9GcQ2GcFYAlDEPH7ZjDdQ2UNHE_jt3uMfn_Q7-v-GGM_IkaVptjpf\n",
      "https://encrypted-tbn0.gstatic.com/images?q=tbn:ANd9GcSxYS7buP_iQg_9nC-KmzoX8qhHxEAKdkRyZGDvsSui95x2MPFc\n",
      "https://encrypted-tbn0.gstatic.com/images?q=tbn:ANd9GcT-PTsa5OayLkBjzESPijnqkHZZU80qM8v2VlrdbCweYyHvIBR1\n",
      "https://encrypted-tbn0.gstatic.com/images?q=tbn:ANd9GcSnNazoronW7W3izWIhicwDNia15f7vwRRkihbzRqB77gNvvC8ZIQ\n",
      "https://encrypted-tbn0.gstatic.com/images?q=tbn:ANd9GcSFvRxErVGI6P9nK2zW66YXl2rWuU8FFlxDr3YWPOBLl_ArGZQO4A\n",
      "https://encrypted-tbn0.gstatic.com/images?q=tbn:ANd9GcR46jVNYIcma11TbxAhTx4_ALx9E4wr8pPZrJ9s80qEw-5NRYztGA\n",
      "https://encrypted-tbn0.gstatic.com/images?q=tbn:ANd9GcSidc0N1FebgDf2CgWTfOFcHomzqEEeaU_U-zPZMnwjSmWxg1Uo\n",
      "https://encrypted-tbn0.gstatic.com/images?q=tbn:ANd9GcRtCyzRrvPs_-x82pWXNv_51jfddvQDY56lvlkJybWGq07GnV53\n",
      "https://encrypted-tbn0.gstatic.com/images?q=tbn:ANd9GcQ3QbdW-UheDgiI4-X133FnhxfxQfmbXIjfp-IpQjt5PPXz8TXm\n",
      "https://encrypted-tbn0.gstatic.com/images?q=tbn:ANd9GcRj3kb4BFn9U6S0l3LLeEQlXjVb_XLYZCJ4VmQTkwTFq5daCk8l0A\n",
      "https://encrypted-tbn0.gstatic.com/images?q=tbn:ANd9GcStB6KlPPYXzjRWLMzN-9fCTLqFDMZimvt6YdlsTCPOTG5rwJiw\n",
      "https://encrypted-tbn0.gstatic.com/images?q=tbn:ANd9GcTFzZWFusKwB8TxNqHRt-3xZMkDiUHwd5Yj00ylPyQmLtpJpVEwyw\n",
      "https://encrypted-tbn0.gstatic.com/images?q=tbn:ANd9GcSCK88Xtr0bqQO2kqLElPb9q2HZTmf2b4_vfkiX7JTp0i80CmRk7g\n",
      "https://encrypted-tbn0.gstatic.com/images?q=tbn:ANd9GcQGeMafqZuweDjQ7vcuWrHmKcKsLW7kLI1gXz_DzhbGD6fZeQhh\n",
      "https://encrypted-tbn0.gstatic.com/images?q=tbn:ANd9GcTtxsYNykhR0Z6SrAH86ruqv8sErA1Ma5IDlce-GqVbDU107ocVWQ\n",
      "https://encrypted-tbn0.gstatic.com/images?q=tbn:ANd9GcQ2nFi75lCjO7AI1tZiCNEczGqOtLsgwYUgcOkbtBUbWgRFeaE8oA\n",
      "https://encrypted-tbn0.gstatic.com/images?q=tbn:ANd9GcTcdcanKy7vnjszz9qVT1VukfQCFTfwKb3EryeTZdy_QvUl0okvhg\n",
      "https://encrypted-tbn0.gstatic.com/images?q=tbn:ANd9GcT0_RbbKM6NLvGSV5OXCmuXthi3ddBqxuLDClTR1ZKYF_cOrqtH\n",
      "https://encrypted-tbn0.gstatic.com/images?q=tbn:ANd9GcTrXtCHOvlbK786oUEksbDNbjId_y7pAa7tAFHUfEWwX_fohfOIew\n",
      "https://encrypted-tbn0.gstatic.com/images?q=tbn:ANd9GcTLjmNGmrqnxi1PzU14G9x6fxKmTGli2DPHi9b4BKY5ti4LzG2gxg\n",
      "https://encrypted-tbn0.gstatic.com/images?q=tbn:ANd9GcTKcytVaiOrrLJ3Ea-0sdbGTToz82jBtYoJxNKG33--Qq2a4Q_g0A\n",
      "https://encrypted-tbn0.gstatic.com/images?q=tbn:ANd9GcRyuLVzBdxlmy6ROcLEPHg7p-rvBlKxFRKEM4UqWCe4SRZtw8E4\n"
     ]
    }
   ],
   "source": [
    "import json\n",
    "images = []\n",
    "for rec in soup.select('.rg_meta'):\n",
    "    jd = json.loads(rec.text)\n",
    "    print(jd.get('tu'))\n",
    "    images.append(jd.get('tu'))"
   ]
  },
  {
   "cell_type": "code",
   "execution_count": 4,
   "metadata": {},
   "outputs": [
    {
     "data": {
      "text/plain": [
       "100"
      ]
     },
     "execution_count": 4,
     "metadata": {},
     "output_type": "execute_result"
    }
   ],
   "source": [
    "len(images)"
   ]
  },
  {
   "cell_type": "code",
   "execution_count": null,
   "metadata": {},
   "outputs": [],
   "source": [
    "\n",
    "import os\n",
    "import json, requests\n",
    "from bs4 import BeautifulSoup\n",
    "#抽煙\n",
    "google_url = 'https://www.google.com.tw/search?ei=l0VYW77rAsPk-AaboofoDQ&safe=off&yv=3&q={}&tbm=isch&vet=10ahUKEwj-kvDe-rncAhVDMt4KHRvRAd0QuT0IuwEoAQ.l0VYW77rAsPk-AaboofoDQ.i&ved=0ahUKEwj-kvDe-rncAhVDMt4KHRvRAd0QuT0IuwEoAQ&ijn=1&start={}&asearch=ichunk&async=_id:rg_s,_pms:s,_fmt:pc'\n",
    "\n",
    "\n",
    "\n",
    "def getImage(keyword, image_dir, batch):   \n",
    "    \n",
    "    if (os.path.exists('dataset')):\n",
    "        print(\"dataset folder exists!\")\n",
    "    else:\n",
    "\n",
    "        print(\" not found for dateset folder ,Create it\")\n",
    "        os.mkdir('dataset')\n",
    "        \n",
    "        \n",
    "    for ins in range(batch):\n",
    "        res = requests.get(google_url.format(keyword, ins * 100))\n",
    "        soup = BeautifulSoup(res.text, 'lxml') \n",
    "        \n",
    "        if (os.path.exists('dataset/'+image_dir + str(ins))):\n",
    "            \n",
    "            print(\"File exists =\", image_dir + str(ins))\n",
    "        else:\n",
    "  \n",
    "            print(\"patch not found,Create it=\", image_dir + str(ins))\n",
    "            os.mkdir('dataset/'+image_dir + str(ins))\n",
    "        \n",
    "        for rec in soup.select('.rg_meta'):\n",
    "            jd = json.loads(rec.text)\n",
    "            url = jd.get('tu')\n",
    "            with open('dataset/'+image_dir + str(ins) + '/' + url.split('tbn:')[1] + '.jpg', 'wb') as f:\n",
    "                #print(image_dir + str(ins) + '/'url.split('tbn:')[1] + 'jpg')\n",
    "                image_res = requests.get(url)\n",
    "                f.write(image_res.content)               \n",
    "\n"
   ]
  },
  {
   "cell_type": "code",
   "execution_count": null,
   "metadata": {},
   "outputs": [],
   "source": [
    "getImage('抽煙', 'smo', 10)"
   ]
  }
 ],
 "metadata": {
  "kernelspec": {
   "display_name": "Python 3",
   "language": "python",
   "name": "python3"
  },
  "language_info": {
   "codemirror_mode": {
    "name": "ipython",
    "version": 3
   },
   "file_extension": ".py",
   "mimetype": "text/x-python",
   "name": "python",
   "nbconvert_exporter": "python",
   "pygments_lexer": "ipython3",
   "version": "3.6.5"
  }
 },
 "nbformat": 4,
 "nbformat_minor": 2
}
