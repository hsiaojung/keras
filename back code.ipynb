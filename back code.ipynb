{
 "cells": [
  {
   "cell_type": "code",
   "execution_count": 135,
   "metadata": {
    "scrolled": true
   },
   "outputs": [
    {
     "name": "stdout",
     "output_type": "stream",
     "text": [
      "Requirement already satisfied: tensorflow-gpu in ./lib/python3.6/site-packages (1.9.0)\n",
      "Requirement already satisfied: six>=1.10.0 in ./lib/python3.6/site-packages (from tensorflow-gpu) (1.11.0)\n",
      "Requirement already satisfied: grpcio>=1.8.6 in ./lib/python3.6/site-packages (from tensorflow-gpu) (1.13.0)\n",
      "Requirement already satisfied: wheel>=0.26 in ./lib/python3.6/site-packages (from tensorflow-gpu) (0.31.1)\n",
      "Requirement already satisfied: termcolor>=1.1.0 in ./lib/python3.6/site-packages (from tensorflow-gpu) (1.1.0)\n",
      "Requirement already satisfied: protobuf>=3.4.0 in ./lib/python3.6/site-packages (from tensorflow-gpu) (3.6.0)\n",
      "Requirement already satisfied: numpy>=1.13.3 in ./lib/python3.6/site-packages (from tensorflow-gpu) (1.14.3)\n",
      "Requirement already satisfied: gast>=0.2.0 in ./lib/python3.6/site-packages (from tensorflow-gpu) (0.2.0)\n",
      "Requirement already satisfied: absl-py>=0.1.6 in ./lib/python3.6/site-packages (from tensorflow-gpu) (0.3.0)\n",
      "Requirement already satisfied: astor>=0.6.0 in ./lib/python3.6/site-packages (from tensorflow-gpu) (0.7.1)\n",
      "Requirement already satisfied: tensorboard<1.10.0,>=1.9.0 in ./lib/python3.6/site-packages (from tensorflow-gpu) (1.9.0)\n",
      "Requirement already satisfied: setuptools<=39.1.0 in ./lib/python3.6/site-packages (from tensorflow-gpu) (39.1.0)\n",
      "Requirement already satisfied: werkzeug>=0.11.10 in ./lib/python3.6/site-packages (from tensorboard<1.10.0,>=1.9.0->tensorflow-gpu) (0.14.1)\n",
      "Requirement already satisfied: markdown>=2.6.8 in ./lib/python3.6/site-packages (from tensorboard<1.10.0,>=1.9.0->tensorflow-gpu) (2.6.11)\n"
     ]
    }
   ],
   "source": [
    "! pip install tensorflow-gpu"
   ]
  },
  {
   "cell_type": "code",
   "execution_count": 136,
   "metadata": {},
   "outputs": [
    {
     "name": "stdout",
     "output_type": "stream",
     "text": [
      "Requirement already up-to-date: pip in ./lib/python3.6/site-packages (18.0)\r\n"
     ]
    }
   ],
   "source": [
    "! pip install --upgrade pip"
   ]
  },
  {
   "cell_type": "code",
   "execution_count": 137,
   "metadata": {},
   "outputs": [],
   "source": [
    "import tensorflow as tf\n",
    "sess = tf.Session(config=tf.ConfigProto(log_device_placement=True))"
   ]
  },
  {
   "cell_type": "code",
   "execution_count": 138,
   "metadata": {},
   "outputs": [
    {
     "name": "stdout",
     "output_type": "stream",
     "text": [
      "Requirement already satisfied: keras in ./lib/python3.6/site-packages (2.2.2)\n",
      "Requirement already satisfied: h5py in ./lib/python3.6/site-packages (from keras) (2.7.1)\n",
      "Requirement already satisfied: numpy>=1.9.1 in ./lib/python3.6/site-packages (from keras) (1.14.3)\n",
      "Requirement already satisfied: scipy>=0.14 in ./lib/python3.6/site-packages (from keras) (1.1.0)\n",
      "Requirement already satisfied: six>=1.9.0 in ./lib/python3.6/site-packages (from keras) (1.11.0)\n",
      "Requirement already satisfied: keras-applications==1.0.4 in ./lib/python3.6/site-packages (from keras) (1.0.4)\n",
      "Requirement already satisfied: keras-preprocessing==1.0.2 in ./lib/python3.6/site-packages (from keras) (1.0.2)\n",
      "Requirement already satisfied: pyyaml in ./lib/python3.6/site-packages (from keras) (3.12)\n"
     ]
    }
   ],
   "source": [
    "! pip install keras"
   ]
  },
  {
   "cell_type": "code",
   "execution_count": 139,
   "metadata": {},
   "outputs": [
    {
     "name": "stdout",
     "output_type": "stream",
     "text": [
      "[name: \"/device:CPU:0\"\n",
      "device_type: \"CPU\"\n",
      "memory_limit: 268435456\n",
      "locality {\n",
      "}\n",
      "incarnation: 3768918679041342595\n",
      ", name: \"/device:GPU:0\"\n",
      "device_type: \"GPU\"\n",
      "memory_limit: 15866508084\n",
      "locality {\n",
      "  bus_id: 1\n",
      "  links {\n",
      "  }\n",
      "}\n",
      "incarnation: 6330345008068236502\n",
      "physical_device_desc: \"device: 0, name: Tesla P100-PCIE-16GB, pci bus id: 0000:65:00.0, compute capability: 6.0\"\n",
      "]\n"
     ]
    }
   ],
   "source": [
    "from tensorflow.python.client import device_lib\n",
    "\n",
    "print(device_lib.list_local_devices())\n",
    "\n",
    "#https://stackoverflow.com/questions/45662253/can-i-run-keras-model-on-gpu\n"
   ]
  },
  {
   "cell_type": "code",
   "execution_count": 140,
   "metadata": {},
   "outputs": [
    {
     "name": "stdout",
     "output_type": "stream",
     "text": [
      "Requirement already satisfied: opencv-python in ./lib/python3.6/site-packages (3.4.2.17)\r\n",
      "Requirement already satisfied: numpy>=1.11.3 in ./lib/python3.6/site-packages (from opencv-python) (1.14.3)\r\n"
     ]
    }
   ],
   "source": [
    "! pip install opencv-python"
   ]
  },
  {
   "cell_type": "code",
   "execution_count": 141,
   "metadata": {},
   "outputs": [],
   "source": [
    "import requests\n",
    "from bs4 import BeautifulSoup\n",
    "res = requests.get('https://www.google.com.tw/search?ei=WchSW_n6H4Gg-Qb815eQBA&yv=3&q=%E6%8A%BD%E7%85%99&safe=off&tbm=isch&vet=10ahUKEwi5i-DMvq_cAhUBUN4KHfzrBUIQuT0IuAEoAQ.WchSW_n6H4Gg-Qb815eQBA.i&ved=0ahUKEwi5i-DMvq_cAhUBUN4KHfzrBUIQuT0IuAEoAQ&ijn=3&start=300&asearch=ichunk&async=_id:rg_s,_pms:s,_fmt:pc')\n",
    "soup = BeautifulSoup(res.text, 'lxml') #lxml解析器\n"
   ]
  },
  {
   "cell_type": "code",
   "execution_count": 142,
   "metadata": {},
   "outputs": [],
   "source": [
    "#print(res.text)"
   ]
  },
  {
   "cell_type": "code",
   "execution_count": 143,
   "metadata": {},
   "outputs": [
    {
     "name": "stdout",
     "output_type": "stream",
     "text": [
      "https://encrypted-tbn0.gstatic.com/images?q=tbn:ANd9GcT7wPgmOTUCSL5GUAw8qD6jkafmymEaqsUyklw_kgJNDewPijBT\n",
      "https://encrypted-tbn0.gstatic.com/images?q=tbn:ANd9GcS54XDhyUT53U788iy1xrzXGsq3m4mM3UZ3gEuFJxtQ4BDqXp3U\n",
      "https://encrypted-tbn0.gstatic.com/images?q=tbn:ANd9GcSov6sfKOltoz74tV7b61YRqUTD59BJnUK2Gt8xgL6DwFZWcrU5rQ\n",
      "https://encrypted-tbn0.gstatic.com/images?q=tbn:ANd9GcQkRJ7ew27Ft51Qwo0ltVYFMF8RvEDViEfOF78SxepWXPyXVvq5\n",
      "https://encrypted-tbn0.gstatic.com/images?q=tbn:ANd9GcQi6jPEHU5BYKseg_F9ADfsLgFs7YHYCTJmFrpMZTK1IwKG1m16\n",
      "https://encrypted-tbn0.gstatic.com/images?q=tbn:ANd9GcSGX07DnTR95eF-bXCX7hX5ultt5wS7W_XoysAO84UOJVCc0UvX\n",
      "https://encrypted-tbn0.gstatic.com/images?q=tbn:ANd9GcQIV2VAlVxiLp0aoXFl1YA9texKmg2SxUo8L6qMqwSajvzEH0lm\n",
      "https://encrypted-tbn0.gstatic.com/images?q=tbn:ANd9GcTW0rgnBAiKAub7S7FdBeVhUjq6gmn6--SEj_El8U9QrVbsw6gQtQ\n",
      "https://encrypted-tbn0.gstatic.com/images?q=tbn:ANd9GcQedLvFgmHAEe94ITclGm8sZjALuaea1WHW7ry70aCMZ7LPmhrREg\n",
      "https://encrypted-tbn0.gstatic.com/images?q=tbn:ANd9GcTVQWT-6Bm-VJnCLYlQifoUZh3dCRAgFD_vPKxcMsF6A4Xi2Fo0sQ\n",
      "https://encrypted-tbn0.gstatic.com/images?q=tbn:ANd9GcQc4Bl0nyJPgxplY-xd8BSSfXHIUsVtrj5_FQ2C1tq3IpffjLC65A\n",
      "https://encrypted-tbn0.gstatic.com/images?q=tbn:ANd9GcRrpyo_YZLTMyIUNTv0-oGi7TiOGoJ3wY8U7yXVc3xRuV1p7zPK\n",
      "https://encrypted-tbn0.gstatic.com/images?q=tbn:ANd9GcTaAtshSBcwIAoa9301aU9vFjquLBvf3PQ29iRb9bT5qqSCnQFMIw\n",
      "https://encrypted-tbn0.gstatic.com/images?q=tbn:ANd9GcSyFKSCflYNgHWtAoU22D_w1s_cXAj_CYjuvjiPXLIWSspi2GBQ\n",
      "https://encrypted-tbn0.gstatic.com/images?q=tbn:ANd9GcR0zFvRmpRV2Zm1-2vpLvxv_URt_Ph10ZtHBBDDHu8_LJr0Mn_QnA\n",
      "https://encrypted-tbn0.gstatic.com/images?q=tbn:ANd9GcSjftnPBPiRE35ePAE5azJdFRjwJmUESp4tOxhEFZacIqjzJPxFCQ\n",
      "https://encrypted-tbn0.gstatic.com/images?q=tbn:ANd9GcQNfr0NCe5vzLL_n6OnmEbs2fVjl53QsW2ibH4l3vTvGW8apYDy\n",
      "https://encrypted-tbn0.gstatic.com/images?q=tbn:ANd9GcSkbAtHVzxSwsEXM6gXzb4RVnrPpSoEmbjBXM4THX7qe3ghtMk6mA\n",
      "https://encrypted-tbn0.gstatic.com/images?q=tbn:ANd9GcSU_Qr-TRhUpjLwqWZq0uq7P0HzwL-bxwKNkoeYrnQ2QrQLKrEdBg\n",
      "https://encrypted-tbn0.gstatic.com/images?q=tbn:ANd9GcRMZY4zzYDqi0nwA0TlrY7fQpnNebC3Ed_Z47k4ZSoJ1vSXB4ym7A\n",
      "https://encrypted-tbn0.gstatic.com/images?q=tbn:ANd9GcTE0o7VFoz0i4v_RWP_-t_JNPsbSIhGYNEHLIXP6s0gPqVqoocStA\n",
      "https://encrypted-tbn0.gstatic.com/images?q=tbn:ANd9GcTvJ0AVkS2jlo-Or--EOhxeSFHxgw-jdKwegO-VK1aj6bH5sXFtHw\n",
      "https://encrypted-tbn0.gstatic.com/images?q=tbn:ANd9GcSfNDUzbTfgAyKY0h4pIVqeK31y-Z_Njy1q74PyzIX-p8vOD3XJYw\n",
      "https://encrypted-tbn0.gstatic.com/images?q=tbn:ANd9GcSStWiOMpHNcnUgu_WK7VXHXfeLJYtaPJ-BRMbKs0FB8FM0a1TP\n",
      "https://encrypted-tbn0.gstatic.com/images?q=tbn:ANd9GcRF9Wir8CZRcoCtaRIWyb3DUqFmScjpa9dSKjWc7flRLzLGiR4feA\n",
      "https://encrypted-tbn0.gstatic.com/images?q=tbn:ANd9GcSU15XCFCEteovaZNj8hjvmsbeys36ivwmNXkGCB3Z4dh47ImOVVg\n",
      "https://encrypted-tbn0.gstatic.com/images?q=tbn:ANd9GcQusJXsXzgyFFiCyXUWK5r94v4BhwMd39je4yNRCQUUljq2zwiWyQ\n",
      "https://encrypted-tbn0.gstatic.com/images?q=tbn:ANd9GcQekUmDPEO4JzAXwWHgsh9fkL-T2y8pEOWVnqDVusnvkjAx91ODDA\n",
      "https://encrypted-tbn0.gstatic.com/images?q=tbn:ANd9GcS1hpoco7J25jQ4BfcZc5s4abbqqNAvXeUcJBBIxFip5m7fOsTY2Q\n",
      "https://encrypted-tbn0.gstatic.com/images?q=tbn:ANd9GcRnjR7JulXkI92bwMK-EWHurqBCOtSFirgS8d6KMJTHVNkiDRTeHA\n",
      "https://encrypted-tbn0.gstatic.com/images?q=tbn:ANd9GcRuPMwaI_Q2Y1xbnLKyB2k0ulnnFiWz_ilq3pnL-kqe0gejZ_KB\n",
      "https://encrypted-tbn0.gstatic.com/images?q=tbn:ANd9GcTBVIbSQDfkaThCmnoQDl2sLziH-X2Y_Ggao8Qi9njgD79RKLtT\n",
      "https://encrypted-tbn0.gstatic.com/images?q=tbn:ANd9GcSjUl87YoMCEbxFMhtT6LVjIPV76a2tr8AJpdaro_iAjIiwu6wEbg\n",
      "https://encrypted-tbn0.gstatic.com/images?q=tbn:ANd9GcTzcG8uytTNCa6tU1YcHJLj5AQuCxY_22VkzYYNuF0bk9aYu3sC0w\n",
      "https://encrypted-tbn0.gstatic.com/images?q=tbn:ANd9GcSCcu-MP4KrKmOzRHW49Pml3xZSmd6SMCZY30ibAjnF2n9Ohcdn\n",
      "https://encrypted-tbn0.gstatic.com/images?q=tbn:ANd9GcQ2gsHORLkdDUu0ItTdOZ-8FsbLCGfMWLIm8Vdd2_D2048IggXS\n",
      "https://encrypted-tbn0.gstatic.com/images?q=tbn:ANd9GcTNxE2nRpQxBAZpfP4shOChup4YEITJNRfMo-Rv7wdMLgcyQYNS\n",
      "https://encrypted-tbn0.gstatic.com/images?q=tbn:ANd9GcRqAyQYyHhfXejA-nZmGZQUwqPFSCh4otyr8pPOs0u8KgZuc--n\n",
      "https://encrypted-tbn0.gstatic.com/images?q=tbn:ANd9GcS7pLUY3-CUYVTn7jkQ3l44w9mDM5LlBWwM6W2cIXgBGDRsXACFkw\n",
      "https://encrypted-tbn0.gstatic.com/images?q=tbn:ANd9GcQrQTTF5ppivRrfBFgVHmwZWQjOTLfTAWrz-QF4dhbzYa6V41vs\n",
      "https://encrypted-tbn0.gstatic.com/images?q=tbn:ANd9GcQ4HCdgAxylCH3-dm6wpyP8QhHWroDse3ObjBlmtn1DMFgKG8oMsg\n",
      "https://encrypted-tbn0.gstatic.com/images?q=tbn:ANd9GcSvBsSPuxbjt_p8FMn5zI6WWSapPi7gehEwyB08YoGGmD4TaYzs\n",
      "https://encrypted-tbn0.gstatic.com/images?q=tbn:ANd9GcScDEmLEa5DJw0Bq14S56mPqNPD8swuFEg1Xx5WGR6HZQ_Rlj0Y\n",
      "https://encrypted-tbn0.gstatic.com/images?q=tbn:ANd9GcTJpDYUpaiuLS4Tf78cy5W9rYAAPMZHlHWnR2FoKqCiPCTjWE1l\n",
      "https://encrypted-tbn0.gstatic.com/images?q=tbn:ANd9GcR1Ztg5P_K4IgwBDQVk7MCOxEc5X0ZCazUzDK0P5TzWbJZZ_XTS\n",
      "https://encrypted-tbn0.gstatic.com/images?q=tbn:ANd9GcSZ37dsy8hCILzF1SMry2MQP-PV7DeWz6YjVfim_fk3Cg_a-jta4w\n",
      "https://encrypted-tbn0.gstatic.com/images?q=tbn:ANd9GcSSo1mkqsyhcmyChpSbpjFJeTJiPnaKwvsPOkh46ykhxvrGpmeWVA\n",
      "https://encrypted-tbn0.gstatic.com/images?q=tbn:ANd9GcS0vuh5RBsebtBpOtHjLS_2U8vqRzwlBxIlj9amXoLiXTuOD3nT\n",
      "https://encrypted-tbn0.gstatic.com/images?q=tbn:ANd9GcQaAylrtI02m18IbDHhJPhkkqxhBDa-jUvgsP_xY-ZGMCdl_oy_Vg\n",
      "https://encrypted-tbn0.gstatic.com/images?q=tbn:ANd9GcRogcLbrPGKrGA50ydgMb-NYGmvcW5n3eHUZxMbqwhzY0zPgzAoFA\n",
      "https://encrypted-tbn0.gstatic.com/images?q=tbn:ANd9GcRlgxcY4g8S3sayAKiMFeSOFc7qVlgoRONVjAwJ3u3cjzg49gRvQQ\n",
      "https://encrypted-tbn0.gstatic.com/images?q=tbn:ANd9GcRpCKLKnogb22ai3O1Ratz7ysqB9yhcq6VHQXdC2bDOvfA14ISo\n",
      "https://encrypted-tbn0.gstatic.com/images?q=tbn:ANd9GcQ7QOb9OZM2ESVcDuyFDz6HoXN3gNlZTqYWWM_AB_o1QTMscTis\n",
      "https://encrypted-tbn0.gstatic.com/images?q=tbn:ANd9GcSCrKw7rdOdxjH-E_Mcdj7S3xhz60ACRfUGoCZiaPOXEeOI1mavpw\n",
      "https://encrypted-tbn0.gstatic.com/images?q=tbn:ANd9GcTWSNgnO9Fl5BL-X2-Yr465a-XnLupHabEjGkf2vIBS26Gj8qMA3A\n",
      "https://encrypted-tbn0.gstatic.com/images?q=tbn:ANd9GcTyHTiWNCJc4XKuAREk_Lb150rot_yOAYTFmKFxcvLJpWa2SZ_-\n",
      "https://encrypted-tbn0.gstatic.com/images?q=tbn:ANd9GcSpKBA0c2Ifox-trvFaV_xlRdllw-pCz3Xq7xGyWrVmuZkUJjzB0A\n",
      "https://encrypted-tbn0.gstatic.com/images?q=tbn:ANd9GcQ3LH-Rp1v-ug1Nuc-uGSeCr8FczhRLSUKbjkTEKPTw_VmWlvQd\n",
      "https://encrypted-tbn0.gstatic.com/images?q=tbn:ANd9GcT-PTsa5OayLkBjzESPijnqkHZZU80qM8v2VlrdbCweYyHvIBR1\n",
      "https://encrypted-tbn0.gstatic.com/images?q=tbn:ANd9GcRSWjORgc4UGDVEL8fpEPbOA_aN49yuOIXqc5VbNJPIkicLtiJN\n",
      "https://encrypted-tbn0.gstatic.com/images?q=tbn:ANd9GcQH0aXn4tQ7qghFyigoP0nrGsQty3-itEeMSi8NNBGYoDgNBDVn\n",
      "https://encrypted-tbn0.gstatic.com/images?q=tbn:ANd9GcT-PZ34LwEGjr5BSJCvTpyDb01taLqpbOTHOyoTp_AkrB1cisdQ\n",
      "https://encrypted-tbn0.gstatic.com/images?q=tbn:ANd9GcRwaz8__BKUwiTorpGoAjy6ZAAM-hdyfYhl1nRvGLaKc2hbRiQRNw\n",
      "https://encrypted-tbn0.gstatic.com/images?q=tbn:ANd9GcQ2XvqtUc2aBnptavJIIIr8WCm5et_-9pnJkbMeE7XFoz8vlSrX\n",
      "https://encrypted-tbn0.gstatic.com/images?q=tbn:ANd9GcQqDoUTRi2EGVCVQl0-wH_RK-mMalBwf6et7yJOknmaPC6sCqFd\n",
      "https://encrypted-tbn0.gstatic.com/images?q=tbn:ANd9GcSHGSpaUIGaltrA2A0T3XVF-3lnQygJeYyQDL2iUgGTPGAnUzk_mQ\n",
      "https://encrypted-tbn0.gstatic.com/images?q=tbn:ANd9GcSRrQY4NWeybfhG3dKI1RSV4exukWANuATqRzUQ9M7C9uod58zfgw\n",
      "https://encrypted-tbn0.gstatic.com/images?q=tbn:ANd9GcR2pSP3_fDdw5Ae9xH_tUQQIyHeu3QwGl3mM4meZ8gTlnMLQVkE\n",
      "https://encrypted-tbn0.gstatic.com/images?q=tbn:ANd9GcT_wJXaPO0waT4Jf-F-pJWSsZfUKqN2Esvu5ljh5KsXQKq5zbhMbg\n",
      "https://encrypted-tbn0.gstatic.com/images?q=tbn:ANd9GcQB4mDElY5t1LBkjGRTS3VV3ZdN4StjpuTwQ2inUB9BoWyl3RJ0\n",
      "https://encrypted-tbn0.gstatic.com/images?q=tbn:ANd9GcSwHl13ODBto0Pi5zghwXgy2wSUjg5xm4EwGzydBojMWmeHVn6a\n",
      "https://encrypted-tbn0.gstatic.com/images?q=tbn:ANd9GcTdHruZyEWrzLOf7wLIDm5CLkGXioTNlcRei7g95rvqVvzTv1Stfw\n",
      "https://encrypted-tbn0.gstatic.com/images?q=tbn:ANd9GcSL6VY9HJjbYrn497y2N49JETelnmBQRrstajvVpy2q8iYipStYBw\n",
      "https://encrypted-tbn0.gstatic.com/images?q=tbn:ANd9GcRtZwMNiJJX8FhrD4WRUj-jny_vC_Np5ZRrdYQDskCTZkXkJ2_kig\n",
      "https://encrypted-tbn0.gstatic.com/images?q=tbn:ANd9GcSbuRzeAjmwJqgclnx-IWjSGB-Y8inToa8Q8K1J8nHRlgBk14lm\n",
      "https://encrypted-tbn0.gstatic.com/images?q=tbn:ANd9GcQ5vU_bMUMs9LAZlMEJ9Ek-x9hAvmLzdONvY-NvkZSf4FECTMGg\n",
      "https://encrypted-tbn0.gstatic.com/images?q=tbn:ANd9GcRBDesWAlN9LQMepn7D1g8kITfMgV-1pxLkYNBCUahLOL6-7VKp6w\n",
      "https://encrypted-tbn0.gstatic.com/images?q=tbn:ANd9GcQortDuK0LeTnFNaHlDrR_kCMdBJm__hv2DgrWoGPjACg_O5DCd\n",
      "https://encrypted-tbn0.gstatic.com/images?q=tbn:ANd9GcR0otbStmdc5E4ksYpKHcpYOscTwAc5tlBmMS24S9gR2rTIo5Jn\n",
      "https://encrypted-tbn0.gstatic.com/images?q=tbn:ANd9GcTyUmj_t3Yima7vt22jv1_ZSPTsnGG97ckXw33774jTM26JBpMa-g\n",
      "https://encrypted-tbn0.gstatic.com/images?q=tbn:ANd9GcR6vPJsBcd9b0O5TIUdOyvWdLIADc4RyxRVkXE8r0q9Y0WqN2-K2w\n",
      "https://encrypted-tbn0.gstatic.com/images?q=tbn:ANd9GcR7ZgKXCR93gzHZVSN-iS4yJfkzPI2gIXwuou-5HEe0yYHzjtK9\n",
      "https://encrypted-tbn0.gstatic.com/images?q=tbn:ANd9GcS3KuYT34vftjfcJWDYq-uTCQtHhpFsh7N1SVt6VjLsoUgOHAIvkA\n",
      "https://encrypted-tbn0.gstatic.com/images?q=tbn:ANd9GcSMAZqaBWCAerWn1PD88IzqCSO8qWnRk--sPVbgMIrLgwWHQYjs\n",
      "https://encrypted-tbn0.gstatic.com/images?q=tbn:ANd9GcRFJeGmaUnn-uLdiZu-S7BRcMULvug_anxWc_wYFg7_GfmXy7csGA\n",
      "https://encrypted-tbn0.gstatic.com/images?q=tbn:ANd9GcTzTX0zdoPRUMxnRDxmUwlh70QqryWkbEP5WpbAQpeW-arXgE7RTg\n",
      "https://encrypted-tbn0.gstatic.com/images?q=tbn:ANd9GcRz65qfJyvOyxmbP3rigwqlVDGXZYiRISBrDBBWSW3w674gyv-L6w\n",
      "https://encrypted-tbn0.gstatic.com/images?q=tbn:ANd9GcTGvfgxP4_3k6V9ymHcrAsZTh1ODWUQRQf-ZvN7FvnF6pFGG37eiw\n",
      "https://encrypted-tbn0.gstatic.com/images?q=tbn:ANd9GcSjTivHtfGcOphI9EfopVwb1j7eClU_9IkrG8ZzQTTr1Rde5Ehu-A\n",
      "https://encrypted-tbn0.gstatic.com/images?q=tbn:ANd9GcThAJ6X1bbEdqJFXBJ_OtDRTMQ-W5oEhW4NyhWFHb3rMNZNU1_t\n",
      "https://encrypted-tbn0.gstatic.com/images?q=tbn:ANd9GcTiOAtSSzr5L6iMKTIDrcRQR3X9J4Fi28UQwNWJG-U04fbDsSVU\n",
      "https://encrypted-tbn0.gstatic.com/images?q=tbn:ANd9GcRYJdM86aqkKsHtW9BpD1EHKejRuiiabewwqavl_jcOcM942YEH\n",
      "https://encrypted-tbn0.gstatic.com/images?q=tbn:ANd9GcSq2pzuFLHPaECubtu_vXk9n5y2o456ZVkLmIa5jYBYxfH6Fzbn-g\n",
      "https://encrypted-tbn0.gstatic.com/images?q=tbn:ANd9GcRkM0KPXoEvb0LpVssf1QdbbvZbxwOv9FrF68_q_37qCBIJEk6vfg\n",
      "https://encrypted-tbn0.gstatic.com/images?q=tbn:ANd9GcRyfslplJEEh27Q_oWFYTAE69KjSmB2WmvgoPEuf-8QEtjBuhxScA\n",
      "https://encrypted-tbn0.gstatic.com/images?q=tbn:ANd9GcRC-vEsZgDPNMwmihTSVdzSgPr9NC7QkckDfPE4sIFUGu4gTDsxZw\n",
      "https://encrypted-tbn0.gstatic.com/images?q=tbn:ANd9GcTFzZWFusKwB8TxNqHRt-3xZMkDiUHwd5Yj00ylPyQmLtpJpVEwyw\n",
      "https://encrypted-tbn0.gstatic.com/images?q=tbn:ANd9GcTHsL78vjgGu0gIBLw-qmvnAcyrt797Qj6Vvuh0fiDgjDSDbUsAzA\n",
      "https://encrypted-tbn0.gstatic.com/images?q=tbn:ANd9GcQGaWWH9w0iIr-xq8zIiciLc1RtKXWTXVZolhwjtu2ABRgWbVIc2w\n",
      "https://encrypted-tbn0.gstatic.com/images?q=tbn:ANd9GcTYlbs8_QfbUZTuOJcGUaI2KzcZ2-yIO0vZYIWVP1m6bMa0jVmF\n"
     ]
    }
   ],
   "source": [
    "import json\n",
    "images = []\n",
    "for rec in soup.select('.rg_meta'):\n",
    "    jd = json.loads(rec.text)\n",
    "    print(jd.get('tu'))\n",
    "    images.append(jd.get('tu'))"
   ]
  },
  {
   "cell_type": "code",
   "execution_count": 144,
   "metadata": {},
   "outputs": [
    {
     "data": {
      "text/plain": [
       "100"
      ]
     },
     "execution_count": 144,
     "metadata": {},
     "output_type": "execute_result"
    }
   ],
   "source": [
    "len(images)"
   ]
  },
  {
   "cell_type": "code",
   "execution_count": 145,
   "metadata": {},
   "outputs": [],
   "source": [
    "import os\n",
    "import json, requests\n",
    "from bs4 import BeautifulSoup\n",
    "#抽煙\n",
    "google_url = 'https://www.google.com.tw/search?ei=l0VYW77rAsPk-AaboofoDQ&safe=off&yv=3&q={}&tbm=isch&vet=10ahUKEwj-kvDe-rncAhVDMt4KHRvRAd0QuT0IuwEoAQ.l0VYW77rAsPk-AaboofoDQ.i&ved=0ahUKEwj-kvDe-rncAhVDMt4KHRvRAd0QuT0IuwEoAQ&ijn=1&start={}&asearch=ichunk&async=_id:rg_s,_pms:s,_fmt:pc'\n",
    "\n",
    "\n",
    "\n",
    "def getImage(keyword, image_dir, batch):   \n",
    "    \n",
    "    if (os.path.exists('dataset')):\n",
    "        print(\"dataset folder exists!\")\n",
    "    else:\n",
    "\n",
    "        print(\" not found for dateset folder ,Create it\")\n",
    "        os.mkdir('dataset')\n",
    "        \n",
    "        \n",
    "    for ins in range(batch):\n",
    "        res = requests.get(google_url.format(keyword, ins * 100))\n",
    "        soup = BeautifulSoup(res.text, 'lxml') \n",
    "        \n",
    "        if (os.path.exists('dataset/'+image_dir + str(ins))):\n",
    "            \n",
    "            print(\"File exists =\", image_dir + str(ins))\n",
    "        else:\n",
    "  \n",
    "            print(\"patch not found,Create it=\", image_dir + str(ins))\n",
    "            os.mkdir('dataset/'+image_dir + str(ins))\n",
    "        \n",
    "        for rec in soup.select('.rg_meta'):\n",
    "            jd = json.loads(rec.text)\n",
    "            url = jd.get('tu')\n",
    "            with open('dataset/'+image_dir + str(ins) + '/' + url.split('tbn:')[1] + '.jpg', 'wb') as f:\n",
    "                #print(image_dir + str(ins) + '/'url.split('tbn:')[1] + 'jpg')\n",
    "                image_res = requests.get(url)\n",
    "                f.write(image_res.content)               "
   ]
  },
  {
   "cell_type": "code",
   "execution_count": 146,
   "metadata": {},
   "outputs": [],
   "source": [
    "#getImage('抽煙', 'smo', 10)"
   ]
  },
  {
   "cell_type": "code",
   "execution_count": 164,
   "metadata": {},
   "outputs": [],
   "source": [
    "\n",
    "# Importing the Keras libraries and packages# Import \n",
    "from keras.models import Sequential \n",
    "from keras.layers import Conv2D\n",
    "from keras.layers import MaxPooling2D \n",
    "from keras.layers import Flatten\n",
    "from keras.layers import Dense\n",
    "\n",
    "# Initialising the CNN\n",
    "classifier = Sequential()"
   ]
  },
  {
   "cell_type": "code",
   "execution_count": 165,
   "metadata": {},
   "outputs": [],
   "source": [
    "# 1. Convolution\n",
    "classifier.add(Conv2D(32, (3, 3), input_shape = (64, 64,\n",
    "3), activation = 'relu'))"
   ]
  },
  {
   "cell_type": "code",
   "execution_count": 166,
   "metadata": {},
   "outputs": [],
   "source": [
    "# 2. Max Pooling\n",
    "classifier.add(MaxPooling2D(pool_size = (2, 2)))"
   ]
  },
  {
   "cell_type": "code",
   "execution_count": 167,
   "metadata": {},
   "outputs": [],
   "source": [
    "# Adding a second convolutional layer\n",
    "classifier.add(Conv2D(32, (3, 3), activation = 'relu'))\n",
    "classifier.add(MaxPooling2D(pool_size = (2, 2)))"
   ]
  },
  {
   "cell_type": "code",
   "execution_count": 168,
   "metadata": {},
   "outputs": [],
   "source": [
    "# 3. Flattening\n",
    "classifier.add(Flatten())"
   ]
  },
  {
   "cell_type": "code",
   "execution_count": 169,
   "metadata": {},
   "outputs": [],
   "source": [
    "# 4. Fully Connection\n",
    "classifier.add(Dense(units = 128, activation = 'relu')) \n",
    "classifier.add(Dense(units = 1, activation = 'sigmoid'))"
   ]
  },
  {
   "cell_type": "code",
   "execution_count": 177,
   "metadata": {},
   "outputs": [],
   "source": [
    "# 5. optimizers\n",
    "# original code\n",
    "  \n",
    "classifier.compile(optimizer = 'adam', loss ='binary_crossentropy', metrics = ['accuracy'])\n",
    "\n"
   ]
  },
  {
   "cell_type": "code",
   "execution_count": 178,
   "metadata": {},
   "outputs": [],
   "source": [
    "from keras.preprocessing.image import ImageDataGenerator\n",
    "#?ImageDataGenerator"
   ]
  },
  {
   "cell_type": "code",
   "execution_count": 179,
   "metadata": {},
   "outputs": [],
   "source": [
    "train_datagen = ImageDataGenerator(rescale = 1./255,\n",
    "                                   shear_range = 0.2,\n",
    "                                   zoom_range = 0.2, horizontal_flip = True)"
   ]
  },
  {
   "cell_type": "code",
   "execution_count": 180,
   "metadata": {},
   "outputs": [],
   "source": [
    "test_datagen = ImageDataGenerator(rescale = 1./255)"
   ]
  },
  {
   "cell_type": "code",
   "execution_count": 181,
   "metadata": {},
   "outputs": [
    {
     "name": "stdout",
     "output_type": "stream",
     "text": [
      "Found 8000 images belonging to 2 classes.\n"
     ]
    }
   ],
   "source": [
    "training_set = train_datagen.flow_from_directory(\n",
    "    'dataset/training_set', target_size = (64, 64),\n",
    "     batch_size = 32,\n",
    "     class_mode = 'binary')"
   ]
  },
  {
   "cell_type": "code",
   "execution_count": 182,
   "metadata": {},
   "outputs": [
    {
     "name": "stdout",
     "output_type": "stream",
     "text": [
      "Found 2000 images belonging to 2 classes.\n"
     ]
    }
   ],
   "source": [
    "test_set = test_datagen.flow_from_directory(\n",
    "    'dataset/test_set', target_size = (64, 64),\n",
    "    batch_size = 32, \n",
    "    class_mode = 'binary')"
   ]
  },
  {
   "cell_type": "code",
   "execution_count": 183,
   "metadata": {},
   "outputs": [
    {
     "name": "stdout",
     "output_type": "stream",
     "text": [
      "Epoch 1/3\n",
      "8000/8000 [==============================] - 734s 92ms/step - loss: nan - acc: 6.6406e-05 - val_loss: nan - val_acc: 0.0000e+00\n",
      "Epoch 2/3\n",
      "1353/8000 [====>.........................] - ETA: 9:46 - loss: nan - acc: 0.0000e+00"
     ]
    },
    {
     "ename": "KeyboardInterrupt",
     "evalue": "",
     "output_type": "error",
     "traceback": [
      "\u001b[0;31m---------------------------------------------------------------------------\u001b[0m",
      "\u001b[0;31mKeyboardInterrupt\u001b[0m                         Traceback (most recent call last)",
      "\u001b[0;32m<ipython-input-183-2035ff3797e6>\u001b[0m in \u001b[0;36m<module>\u001b[0;34m()\u001b[0m\n\u001b[1;32m      1\u001b[0m classifier.fit_generator(training_set, steps_per_epoch = 8000,\n\u001b[0;32m----> 2\u001b[0;31m epochs = 3, validation_data = test_set, validation_steps = 2000)\n\u001b[0m",
      "\u001b[0;32m~/work/anaconda3/lib/python3.6/site-packages/keras/legacy/interfaces.py\u001b[0m in \u001b[0;36mwrapper\u001b[0;34m(*args, **kwargs)\u001b[0m\n\u001b[1;32m     89\u001b[0m                 warnings.warn('Update your `' + object_name +\n\u001b[1;32m     90\u001b[0m                               '` call to the Keras 2 API: ' + signature, stacklevel=2)\n\u001b[0;32m---> 91\u001b[0;31m             \u001b[0;32mreturn\u001b[0m \u001b[0mfunc\u001b[0m\u001b[0;34m(\u001b[0m\u001b[0;34m*\u001b[0m\u001b[0margs\u001b[0m\u001b[0;34m,\u001b[0m \u001b[0;34m**\u001b[0m\u001b[0mkwargs\u001b[0m\u001b[0;34m)\u001b[0m\u001b[0;34m\u001b[0m\u001b[0m\n\u001b[0m\u001b[1;32m     92\u001b[0m         \u001b[0mwrapper\u001b[0m\u001b[0;34m.\u001b[0m\u001b[0m_original_function\u001b[0m \u001b[0;34m=\u001b[0m \u001b[0mfunc\u001b[0m\u001b[0;34m\u001b[0m\u001b[0m\n\u001b[1;32m     93\u001b[0m         \u001b[0;32mreturn\u001b[0m \u001b[0mwrapper\u001b[0m\u001b[0;34m\u001b[0m\u001b[0m\n",
      "\u001b[0;32m~/work/anaconda3/lib/python3.6/site-packages/keras/engine/training.py\u001b[0m in \u001b[0;36mfit_generator\u001b[0;34m(self, generator, steps_per_epoch, epochs, verbose, callbacks, validation_data, validation_steps, class_weight, max_queue_size, workers, use_multiprocessing, shuffle, initial_epoch)\u001b[0m\n\u001b[1;32m   1413\u001b[0m             \u001b[0muse_multiprocessing\u001b[0m\u001b[0;34m=\u001b[0m\u001b[0muse_multiprocessing\u001b[0m\u001b[0;34m,\u001b[0m\u001b[0;34m\u001b[0m\u001b[0m\n\u001b[1;32m   1414\u001b[0m             \u001b[0mshuffle\u001b[0m\u001b[0;34m=\u001b[0m\u001b[0mshuffle\u001b[0m\u001b[0;34m,\u001b[0m\u001b[0;34m\u001b[0m\u001b[0m\n\u001b[0;32m-> 1415\u001b[0;31m             initial_epoch=initial_epoch)\n\u001b[0m\u001b[1;32m   1416\u001b[0m \u001b[0;34m\u001b[0m\u001b[0m\n\u001b[1;32m   1417\u001b[0m     \u001b[0;34m@\u001b[0m\u001b[0minterfaces\u001b[0m\u001b[0;34m.\u001b[0m\u001b[0mlegacy_generator_methods_support\u001b[0m\u001b[0;34m\u001b[0m\u001b[0m\n",
      "\u001b[0;32m~/work/anaconda3/lib/python3.6/site-packages/keras/engine/training_generator.py\u001b[0m in \u001b[0;36mfit_generator\u001b[0;34m(model, generator, steps_per_epoch, epochs, verbose, callbacks, validation_data, validation_steps, class_weight, max_queue_size, workers, use_multiprocessing, shuffle, initial_epoch)\u001b[0m\n\u001b[1;32m    175\u001b[0m             \u001b[0mbatch_index\u001b[0m \u001b[0;34m=\u001b[0m \u001b[0;36m0\u001b[0m\u001b[0;34m\u001b[0m\u001b[0m\n\u001b[1;32m    176\u001b[0m             \u001b[0;32mwhile\u001b[0m \u001b[0msteps_done\u001b[0m \u001b[0;34m<\u001b[0m \u001b[0msteps_per_epoch\u001b[0m\u001b[0;34m:\u001b[0m\u001b[0;34m\u001b[0m\u001b[0m\n\u001b[0;32m--> 177\u001b[0;31m                 \u001b[0mgenerator_output\u001b[0m \u001b[0;34m=\u001b[0m \u001b[0mnext\u001b[0m\u001b[0;34m(\u001b[0m\u001b[0moutput_generator\u001b[0m\u001b[0;34m)\u001b[0m\u001b[0;34m\u001b[0m\u001b[0m\n\u001b[0m\u001b[1;32m    178\u001b[0m \u001b[0;34m\u001b[0m\u001b[0m\n\u001b[1;32m    179\u001b[0m                 \u001b[0;32mif\u001b[0m \u001b[0;32mnot\u001b[0m \u001b[0mhasattr\u001b[0m\u001b[0;34m(\u001b[0m\u001b[0mgenerator_output\u001b[0m\u001b[0;34m,\u001b[0m \u001b[0;34m'__len__'\u001b[0m\u001b[0;34m)\u001b[0m\u001b[0;34m:\u001b[0m\u001b[0;34m\u001b[0m\u001b[0m\n",
      "\u001b[0;32m~/work/anaconda3/lib/python3.6/site-packages/keras/utils/data_utils.py\u001b[0m in \u001b[0;36mget\u001b[0;34m(self)\u001b[0m\n\u001b[1;32m    576\u001b[0m         \u001b[0;32mtry\u001b[0m\u001b[0;34m:\u001b[0m\u001b[0;34m\u001b[0m\u001b[0m\n\u001b[1;32m    577\u001b[0m             \u001b[0;32mwhile\u001b[0m \u001b[0mself\u001b[0m\u001b[0;34m.\u001b[0m\u001b[0mis_running\u001b[0m\u001b[0;34m(\u001b[0m\u001b[0;34m)\u001b[0m\u001b[0;34m:\u001b[0m\u001b[0;34m\u001b[0m\u001b[0m\n\u001b[0;32m--> 578\u001b[0;31m                 \u001b[0minputs\u001b[0m \u001b[0;34m=\u001b[0m \u001b[0mself\u001b[0m\u001b[0;34m.\u001b[0m\u001b[0mqueue\u001b[0m\u001b[0;34m.\u001b[0m\u001b[0mget\u001b[0m\u001b[0;34m(\u001b[0m\u001b[0mblock\u001b[0m\u001b[0;34m=\u001b[0m\u001b[0;32mTrue\u001b[0m\u001b[0;34m)\u001b[0m\u001b[0;34m.\u001b[0m\u001b[0mget\u001b[0m\u001b[0;34m(\u001b[0m\u001b[0;34m)\u001b[0m\u001b[0;34m\u001b[0m\u001b[0m\n\u001b[0m\u001b[1;32m    579\u001b[0m                 \u001b[0mself\u001b[0m\u001b[0;34m.\u001b[0m\u001b[0mqueue\u001b[0m\u001b[0;34m.\u001b[0m\u001b[0mtask_done\u001b[0m\u001b[0;34m(\u001b[0m\u001b[0;34m)\u001b[0m\u001b[0;34m\u001b[0m\u001b[0m\n\u001b[1;32m    580\u001b[0m                 \u001b[0;32mif\u001b[0m \u001b[0minputs\u001b[0m \u001b[0;32mis\u001b[0m \u001b[0;32mnot\u001b[0m \u001b[0;32mNone\u001b[0m\u001b[0;34m:\u001b[0m\u001b[0;34m\u001b[0m\u001b[0m\n",
      "\u001b[0;32m~/work/anaconda3/lib/python3.6/multiprocessing/pool.py\u001b[0m in \u001b[0;36mget\u001b[0;34m(self, timeout)\u001b[0m\n\u001b[1;32m    636\u001b[0m \u001b[0;34m\u001b[0m\u001b[0m\n\u001b[1;32m    637\u001b[0m     \u001b[0;32mdef\u001b[0m \u001b[0mget\u001b[0m\u001b[0;34m(\u001b[0m\u001b[0mself\u001b[0m\u001b[0;34m,\u001b[0m \u001b[0mtimeout\u001b[0m\u001b[0;34m=\u001b[0m\u001b[0;32mNone\u001b[0m\u001b[0;34m)\u001b[0m\u001b[0;34m:\u001b[0m\u001b[0;34m\u001b[0m\u001b[0m\n\u001b[0;32m--> 638\u001b[0;31m         \u001b[0mself\u001b[0m\u001b[0;34m.\u001b[0m\u001b[0mwait\u001b[0m\u001b[0;34m(\u001b[0m\u001b[0mtimeout\u001b[0m\u001b[0;34m)\u001b[0m\u001b[0;34m\u001b[0m\u001b[0m\n\u001b[0m\u001b[1;32m    639\u001b[0m         \u001b[0;32mif\u001b[0m \u001b[0;32mnot\u001b[0m \u001b[0mself\u001b[0m\u001b[0;34m.\u001b[0m\u001b[0mready\u001b[0m\u001b[0;34m(\u001b[0m\u001b[0;34m)\u001b[0m\u001b[0;34m:\u001b[0m\u001b[0;34m\u001b[0m\u001b[0m\n\u001b[1;32m    640\u001b[0m             \u001b[0;32mraise\u001b[0m \u001b[0mTimeoutError\u001b[0m\u001b[0;34m\u001b[0m\u001b[0m\n",
      "\u001b[0;32m~/work/anaconda3/lib/python3.6/multiprocessing/pool.py\u001b[0m in \u001b[0;36mwait\u001b[0;34m(self, timeout)\u001b[0m\n\u001b[1;32m    633\u001b[0m \u001b[0;34m\u001b[0m\u001b[0m\n\u001b[1;32m    634\u001b[0m     \u001b[0;32mdef\u001b[0m \u001b[0mwait\u001b[0m\u001b[0;34m(\u001b[0m\u001b[0mself\u001b[0m\u001b[0;34m,\u001b[0m \u001b[0mtimeout\u001b[0m\u001b[0;34m=\u001b[0m\u001b[0;32mNone\u001b[0m\u001b[0;34m)\u001b[0m\u001b[0;34m:\u001b[0m\u001b[0;34m\u001b[0m\u001b[0m\n\u001b[0;32m--> 635\u001b[0;31m         \u001b[0mself\u001b[0m\u001b[0;34m.\u001b[0m\u001b[0m_event\u001b[0m\u001b[0;34m.\u001b[0m\u001b[0mwait\u001b[0m\u001b[0;34m(\u001b[0m\u001b[0mtimeout\u001b[0m\u001b[0;34m)\u001b[0m\u001b[0;34m\u001b[0m\u001b[0m\n\u001b[0m\u001b[1;32m    636\u001b[0m \u001b[0;34m\u001b[0m\u001b[0m\n\u001b[1;32m    637\u001b[0m     \u001b[0;32mdef\u001b[0m \u001b[0mget\u001b[0m\u001b[0;34m(\u001b[0m\u001b[0mself\u001b[0m\u001b[0;34m,\u001b[0m \u001b[0mtimeout\u001b[0m\u001b[0;34m=\u001b[0m\u001b[0;32mNone\u001b[0m\u001b[0;34m)\u001b[0m\u001b[0;34m:\u001b[0m\u001b[0;34m\u001b[0m\u001b[0m\n",
      "\u001b[0;32m~/work/anaconda3/lib/python3.6/threading.py\u001b[0m in \u001b[0;36mwait\u001b[0;34m(self, timeout)\u001b[0m\n\u001b[1;32m    549\u001b[0m             \u001b[0msignaled\u001b[0m \u001b[0;34m=\u001b[0m \u001b[0mself\u001b[0m\u001b[0;34m.\u001b[0m\u001b[0m_flag\u001b[0m\u001b[0;34m\u001b[0m\u001b[0m\n\u001b[1;32m    550\u001b[0m             \u001b[0;32mif\u001b[0m \u001b[0;32mnot\u001b[0m \u001b[0msignaled\u001b[0m\u001b[0;34m:\u001b[0m\u001b[0;34m\u001b[0m\u001b[0m\n\u001b[0;32m--> 551\u001b[0;31m                 \u001b[0msignaled\u001b[0m \u001b[0;34m=\u001b[0m \u001b[0mself\u001b[0m\u001b[0;34m.\u001b[0m\u001b[0m_cond\u001b[0m\u001b[0;34m.\u001b[0m\u001b[0mwait\u001b[0m\u001b[0;34m(\u001b[0m\u001b[0mtimeout\u001b[0m\u001b[0;34m)\u001b[0m\u001b[0;34m\u001b[0m\u001b[0m\n\u001b[0m\u001b[1;32m    552\u001b[0m             \u001b[0;32mreturn\u001b[0m \u001b[0msignaled\u001b[0m\u001b[0;34m\u001b[0m\u001b[0m\n\u001b[1;32m    553\u001b[0m \u001b[0;34m\u001b[0m\u001b[0m\n",
      "\u001b[0;32m~/work/anaconda3/lib/python3.6/threading.py\u001b[0m in \u001b[0;36mwait\u001b[0;34m(self, timeout)\u001b[0m\n\u001b[1;32m    293\u001b[0m         \u001b[0;32mtry\u001b[0m\u001b[0;34m:\u001b[0m    \u001b[0;31m# restore state no matter what (e.g., KeyboardInterrupt)\u001b[0m\u001b[0;34m\u001b[0m\u001b[0m\n\u001b[1;32m    294\u001b[0m             \u001b[0;32mif\u001b[0m \u001b[0mtimeout\u001b[0m \u001b[0;32mis\u001b[0m \u001b[0;32mNone\u001b[0m\u001b[0;34m:\u001b[0m\u001b[0;34m\u001b[0m\u001b[0m\n\u001b[0;32m--> 295\u001b[0;31m                 \u001b[0mwaiter\u001b[0m\u001b[0;34m.\u001b[0m\u001b[0macquire\u001b[0m\u001b[0;34m(\u001b[0m\u001b[0;34m)\u001b[0m\u001b[0;34m\u001b[0m\u001b[0m\n\u001b[0m\u001b[1;32m    296\u001b[0m                 \u001b[0mgotit\u001b[0m \u001b[0;34m=\u001b[0m \u001b[0;32mTrue\u001b[0m\u001b[0;34m\u001b[0m\u001b[0m\n\u001b[1;32m    297\u001b[0m             \u001b[0;32melse\u001b[0m\u001b[0;34m:\u001b[0m\u001b[0;34m\u001b[0m\u001b[0m\n",
      "\u001b[0;31mKeyboardInterrupt\u001b[0m: "
     ]
    }
   ],
   "source": [
    "classifier.fit_generator(training_set, steps_per_epoch = 8000,\n",
    "epochs = 3, validation_data = test_set, validation_steps = 2000)"
   ]
  },
  {
   "cell_type": "markdown",
   "metadata": {},
   "source": [
    "### New code\n",
    "\n"
   ]
  },
  {
   "cell_type": "code",
   "execution_count": 2,
   "metadata": {},
   "outputs": [
    {
     "name": "stderr",
     "output_type": "stream",
     "text": [
      "/home/aewin/work/anaconda3/lib/python3.6/site-packages/h5py/__init__.py:36: FutureWarning: Conversion of the second argument of issubdtype from `float` to `np.floating` is deprecated. In future, it will be treated as `np.float64 == np.dtype(float).type`.\n",
      "  from ._conv import register_converters as _register_converters\n",
      "Using TensorFlow backend.\n"
     ]
    }
   ],
   "source": [
    "\n",
    "from keras.preprocessing.image import ImageDataGenerator\n",
    "from keras.models import Sequential\n",
    "from keras.layers import Conv2D, MaxPooling2D\n",
    "from keras.layers import Activation, Dropout, Flatten, Dense\n",
    "from keras import backend as K\n",
    "from keras.callbacks import ModelCheckpoint\n"
   ]
  },
  {
   "cell_type": "code",
   "execution_count": 3,
   "metadata": {},
   "outputs": [],
   "source": [
    "\n",
    "# dimensions of our images.\n",
    "img_width, img_height = 150, 150\n",
    "\n",
    "train_data_dir = 'dataset/training_set/smo'\n",
    "validation_data_dir = 'dataset/test_set/smo'\n",
    "nb_train_samples = 2000\n",
    "nb_validation_samples = 300\n",
    "epochs = 1\n",
    "batch_size = 32\n",
    "\n",
    "if K.image_data_format() == 'channels_first':\n",
    "    input_shape = (3, img_width, img_height)\n",
    "else:\n",
    "    input_shape = (img_width, img_height, 3)"
   ]
  },
  {
   "cell_type": "code",
   "execution_count": 4,
   "metadata": {},
   "outputs": [],
   "source": [
    "\n",
    "model = Sequential()\n",
    "model.add(Conv2D(32, (3, 3), input_shape=input_shape))\n",
    "model.add(Activation('relu'))\n",
    "model.add(MaxPooling2D(pool_size=(2, 2)))\n",
    "\n",
    "model.add(Conv2D(32, (3, 3)))\n",
    "model.add(Activation('relu'))\n",
    "model.add(MaxPooling2D(pool_size=(2, 2)))\n",
    "\n",
    "model.add(Conv2D(64, (3, 3)))\n",
    "model.add(Activation('relu'))\n",
    "model.add(MaxPooling2D(pool_size=(2, 2)))\n",
    "\n",
    "model.add(Flatten())\n",
    "model.add(Dense(64))\n",
    "model.add(Activation('relu'))\n",
    "model.add(Dropout(0.5))\n",
    "model.add(Dense(1))\n",
    "model.add(Activation('sigmoid'))\n",
    "#model.load_weights('weights.best.hdf5')\n",
    "filepath='weights.best.hdf5'\n",
    "model.compile(loss='binary_crossentropy',\n",
    "              optimizer='Adam',\n",
    "              metrics=['accuracy'])\n"
   ]
  },
  {
   "cell_type": "code",
   "execution_count": 5,
   "metadata": {},
   "outputs": [],
   "source": [
    "checkpoint = ModelCheckpoint(filepath, monitor='val_acc', verbose=1, save_best_only=True,\n",
    "                            mode='max')\n",
    "callbacks_list = [checkpoint]\n",
    "\n",
    "# this is the augmentation configuration we will use for training\n",
    "train_datagen = ImageDataGenerator(\n",
    "    rescale=1. / 255,\n",
    "    shear_range=0.2,\n",
    "    zoom_range=0.2,\n",
    "    horizontal_flip=True)\n",
    "\n",
    "\n",
    "# this is the augmentation configuration we will use for testing:\n",
    "# only rescaling\n",
    "test_datagen = ImageDataGenerator(rescale=1. / 255)\n"
   ]
  },
  {
   "cell_type": "code",
   "execution_count": 6,
   "metadata": {},
   "outputs": [
    {
     "name": "stdout",
     "output_type": "stream",
     "text": [
      "Found 4299 images belonging to 2 classes.\n"
     ]
    }
   ],
   "source": [
    "train_generator = train_datagen.flow_from_directory(\n",
    "    train_data_dir,\n",
    "    target_size=(img_width, img_height),\n",
    "    batch_size=batch_size,\n",
    "    class_mode='binary')\n"
   ]
  },
  {
   "cell_type": "code",
   "execution_count": 7,
   "metadata": {},
   "outputs": [
    {
     "name": "stdout",
     "output_type": "stream",
     "text": [
      "Found 600 images belonging to 2 classes.\n"
     ]
    }
   ],
   "source": [
    "validation_generator = test_datagen.flow_from_directory(\n",
    "    validation_data_dir,\n",
    "    target_size=(img_width, img_height),\n",
    "    batch_size=batch_size,\n",
    "    class_mode='binary')\n"
   ]
  },
  {
   "cell_type": "code",
   "execution_count": 8,
   "metadata": {
    "scrolled": false
   },
   "outputs": [
    {
     "name": "stdout",
     "output_type": "stream",
     "text": [
      "Epoch 1/1\n"
     ]
    },
    {
     "ename": "InternalError",
     "evalue": "Failed to create session.",
     "output_type": "error",
     "traceback": [
      "\u001b[0;31m---------------------------------------------------------------------------\u001b[0m",
      "\u001b[0;31mInternalError\u001b[0m                             Traceback (most recent call last)",
      "\u001b[0;32m<ipython-input-8-ea110fa38ea3>\u001b[0m in \u001b[0;36m<module>\u001b[0;34m()\u001b[0m\n\u001b[1;32m      8\u001b[0m     \u001b[0;31m#validation_steps=nb_validation_samples // batch_size,\u001b[0m\u001b[0;34m\u001b[0m\u001b[0;34m\u001b[0m\u001b[0m\n\u001b[1;32m      9\u001b[0m     \u001b[0mvalidation_steps\u001b[0m\u001b[0;34m=\u001b[0m\u001b[0mnb_validation_samples\u001b[0m\u001b[0;34m,\u001b[0m\u001b[0;34m\u001b[0m\u001b[0m\n\u001b[0;32m---> 10\u001b[0;31m     callbacks=callbacks_list)\n\u001b[0m",
      "\u001b[0;32m~/work/anaconda3/lib/python3.6/site-packages/keras/legacy/interfaces.py\u001b[0m in \u001b[0;36mwrapper\u001b[0;34m(*args, **kwargs)\u001b[0m\n\u001b[1;32m     89\u001b[0m                 warnings.warn('Update your `' + object_name +\n\u001b[1;32m     90\u001b[0m                               '` call to the Keras 2 API: ' + signature, stacklevel=2)\n\u001b[0;32m---> 91\u001b[0;31m             \u001b[0;32mreturn\u001b[0m \u001b[0mfunc\u001b[0m\u001b[0;34m(\u001b[0m\u001b[0;34m*\u001b[0m\u001b[0margs\u001b[0m\u001b[0;34m,\u001b[0m \u001b[0;34m**\u001b[0m\u001b[0mkwargs\u001b[0m\u001b[0;34m)\u001b[0m\u001b[0;34m\u001b[0m\u001b[0m\n\u001b[0m\u001b[1;32m     92\u001b[0m         \u001b[0mwrapper\u001b[0m\u001b[0;34m.\u001b[0m\u001b[0m_original_function\u001b[0m \u001b[0;34m=\u001b[0m \u001b[0mfunc\u001b[0m\u001b[0;34m\u001b[0m\u001b[0m\n\u001b[1;32m     93\u001b[0m         \u001b[0;32mreturn\u001b[0m \u001b[0mwrapper\u001b[0m\u001b[0;34m\u001b[0m\u001b[0m\n",
      "\u001b[0;32m~/work/anaconda3/lib/python3.6/site-packages/keras/engine/training.py\u001b[0m in \u001b[0;36mfit_generator\u001b[0;34m(self, generator, steps_per_epoch, epochs, verbose, callbacks, validation_data, validation_steps, class_weight, max_queue_size, workers, use_multiprocessing, shuffle, initial_epoch)\u001b[0m\n\u001b[1;32m   1413\u001b[0m             \u001b[0muse_multiprocessing\u001b[0m\u001b[0;34m=\u001b[0m\u001b[0muse_multiprocessing\u001b[0m\u001b[0;34m,\u001b[0m\u001b[0;34m\u001b[0m\u001b[0m\n\u001b[1;32m   1414\u001b[0m             \u001b[0mshuffle\u001b[0m\u001b[0;34m=\u001b[0m\u001b[0mshuffle\u001b[0m\u001b[0;34m,\u001b[0m\u001b[0;34m\u001b[0m\u001b[0m\n\u001b[0;32m-> 1415\u001b[0;31m             initial_epoch=initial_epoch)\n\u001b[0m\u001b[1;32m   1416\u001b[0m \u001b[0;34m\u001b[0m\u001b[0m\n\u001b[1;32m   1417\u001b[0m     \u001b[0;34m@\u001b[0m\u001b[0minterfaces\u001b[0m\u001b[0;34m.\u001b[0m\u001b[0mlegacy_generator_methods_support\u001b[0m\u001b[0;34m\u001b[0m\u001b[0m\n",
      "\u001b[0;32m~/work/anaconda3/lib/python3.6/site-packages/keras/engine/training_generator.py\u001b[0m in \u001b[0;36mfit_generator\u001b[0;34m(model, generator, steps_per_epoch, epochs, verbose, callbacks, validation_data, validation_steps, class_weight, max_queue_size, workers, use_multiprocessing, shuffle, initial_epoch)\u001b[0m\n\u001b[1;32m    211\u001b[0m                 outs = model.train_on_batch(x, y,\n\u001b[1;32m    212\u001b[0m                                             \u001b[0msample_weight\u001b[0m\u001b[0;34m=\u001b[0m\u001b[0msample_weight\u001b[0m\u001b[0;34m,\u001b[0m\u001b[0;34m\u001b[0m\u001b[0m\n\u001b[0;32m--> 213\u001b[0;31m                                             class_weight=class_weight)\n\u001b[0m\u001b[1;32m    214\u001b[0m \u001b[0;34m\u001b[0m\u001b[0m\n\u001b[1;32m    215\u001b[0m                 \u001b[0mouts\u001b[0m \u001b[0;34m=\u001b[0m \u001b[0mto_list\u001b[0m\u001b[0;34m(\u001b[0m\u001b[0mouts\u001b[0m\u001b[0;34m)\u001b[0m\u001b[0;34m\u001b[0m\u001b[0m\n",
      "\u001b[0;32m~/work/anaconda3/lib/python3.6/site-packages/keras/engine/training.py\u001b[0m in \u001b[0;36mtrain_on_batch\u001b[0;34m(self, x, y, sample_weight, class_weight)\u001b[0m\n\u001b[1;32m   1213\u001b[0m             \u001b[0mins\u001b[0m \u001b[0;34m=\u001b[0m \u001b[0mx\u001b[0m \u001b[0;34m+\u001b[0m \u001b[0my\u001b[0m \u001b[0;34m+\u001b[0m \u001b[0msample_weights\u001b[0m\u001b[0;34m\u001b[0m\u001b[0m\n\u001b[1;32m   1214\u001b[0m         \u001b[0mself\u001b[0m\u001b[0;34m.\u001b[0m\u001b[0m_make_train_function\u001b[0m\u001b[0;34m(\u001b[0m\u001b[0;34m)\u001b[0m\u001b[0;34m\u001b[0m\u001b[0m\n\u001b[0;32m-> 1215\u001b[0;31m         \u001b[0moutputs\u001b[0m \u001b[0;34m=\u001b[0m \u001b[0mself\u001b[0m\u001b[0;34m.\u001b[0m\u001b[0mtrain_function\u001b[0m\u001b[0;34m(\u001b[0m\u001b[0mins\u001b[0m\u001b[0;34m)\u001b[0m\u001b[0;34m\u001b[0m\u001b[0m\n\u001b[0m\u001b[1;32m   1216\u001b[0m         \u001b[0;32mreturn\u001b[0m \u001b[0munpack_singleton\u001b[0m\u001b[0;34m(\u001b[0m\u001b[0moutputs\u001b[0m\u001b[0;34m)\u001b[0m\u001b[0;34m\u001b[0m\u001b[0m\n\u001b[1;32m   1217\u001b[0m \u001b[0;34m\u001b[0m\u001b[0m\n",
      "\u001b[0;32m~/work/anaconda3/lib/python3.6/site-packages/keras/backend/tensorflow_backend.py\u001b[0m in \u001b[0;36m__call__\u001b[0;34m(self, inputs)\u001b[0m\n\u001b[1;32m   2656\u001b[0m \u001b[0;34m\u001b[0m\u001b[0m\n\u001b[1;32m   2657\u001b[0m     \u001b[0;32mdef\u001b[0m \u001b[0m__call__\u001b[0m\u001b[0;34m(\u001b[0m\u001b[0mself\u001b[0m\u001b[0;34m,\u001b[0m \u001b[0minputs\u001b[0m\u001b[0;34m)\u001b[0m\u001b[0;34m:\u001b[0m\u001b[0;34m\u001b[0m\u001b[0m\n\u001b[0;32m-> 2658\u001b[0;31m         \u001b[0;32mif\u001b[0m \u001b[0mhasattr\u001b[0m\u001b[0;34m(\u001b[0m\u001b[0mget_session\u001b[0m\u001b[0;34m(\u001b[0m\u001b[0;34m)\u001b[0m\u001b[0;34m,\u001b[0m \u001b[0;34m'_make_callable_from_options'\u001b[0m\u001b[0;34m)\u001b[0m\u001b[0;34m:\u001b[0m\u001b[0;34m\u001b[0m\u001b[0m\n\u001b[0m\u001b[1;32m   2659\u001b[0m             \u001b[0;32mif\u001b[0m \u001b[0mpy_any\u001b[0m\u001b[0;34m(\u001b[0m\u001b[0mis_sparse\u001b[0m\u001b[0;34m(\u001b[0m\u001b[0mx\u001b[0m\u001b[0;34m)\u001b[0m \u001b[0;32mfor\u001b[0m \u001b[0mx\u001b[0m \u001b[0;32min\u001b[0m \u001b[0mself\u001b[0m\u001b[0;34m.\u001b[0m\u001b[0minputs\u001b[0m\u001b[0;34m)\u001b[0m\u001b[0;34m:\u001b[0m\u001b[0;34m\u001b[0m\u001b[0m\n\u001b[1;32m   2660\u001b[0m                 \u001b[0;32mif\u001b[0m \u001b[0mpy_any\u001b[0m\u001b[0;34m(\u001b[0m\u001b[0mis_tensor\u001b[0m\u001b[0;34m(\u001b[0m\u001b[0mx\u001b[0m\u001b[0;34m)\u001b[0m \u001b[0;32mfor\u001b[0m \u001b[0mx\u001b[0m \u001b[0;32min\u001b[0m \u001b[0minputs\u001b[0m\u001b[0;34m)\u001b[0m\u001b[0;34m:\u001b[0m\u001b[0;34m\u001b[0m\u001b[0m\n",
      "\u001b[0;32m~/work/anaconda3/lib/python3.6/site-packages/keras/backend/tensorflow_backend.py\u001b[0m in \u001b[0;36mget_session\u001b[0;34m()\u001b[0m\n\u001b[1;32m    182\u001b[0m                 config = tf.ConfigProto(intra_op_parallelism_threads=num_thread,\n\u001b[1;32m    183\u001b[0m                                         allow_soft_placement=True)\n\u001b[0;32m--> 184\u001b[0;31m             \u001b[0m_SESSION\u001b[0m \u001b[0;34m=\u001b[0m \u001b[0mtf\u001b[0m\u001b[0;34m.\u001b[0m\u001b[0mSession\u001b[0m\u001b[0;34m(\u001b[0m\u001b[0mconfig\u001b[0m\u001b[0;34m=\u001b[0m\u001b[0mconfig\u001b[0m\u001b[0;34m)\u001b[0m\u001b[0;34m\u001b[0m\u001b[0m\n\u001b[0m\u001b[1;32m    185\u001b[0m         \u001b[0msession\u001b[0m \u001b[0;34m=\u001b[0m \u001b[0m_SESSION\u001b[0m\u001b[0;34m\u001b[0m\u001b[0m\n\u001b[1;32m    186\u001b[0m     \u001b[0;32mif\u001b[0m \u001b[0;32mnot\u001b[0m \u001b[0m_MANUAL_VAR_INIT\u001b[0m\u001b[0;34m:\u001b[0m\u001b[0;34m\u001b[0m\u001b[0m\n",
      "\u001b[0;32m~/work/anaconda3/lib/python3.6/site-packages/tensorflow/python/client/session.py\u001b[0m in \u001b[0;36m__init__\u001b[0;34m(self, target, graph, config)\u001b[0m\n\u001b[1;32m   1561\u001b[0m \u001b[0;34m\u001b[0m\u001b[0m\n\u001b[1;32m   1562\u001b[0m     \"\"\"\n\u001b[0;32m-> 1563\u001b[0;31m     \u001b[0msuper\u001b[0m\u001b[0;34m(\u001b[0m\u001b[0mSession\u001b[0m\u001b[0;34m,\u001b[0m \u001b[0mself\u001b[0m\u001b[0;34m)\u001b[0m\u001b[0;34m.\u001b[0m\u001b[0m__init__\u001b[0m\u001b[0;34m(\u001b[0m\u001b[0mtarget\u001b[0m\u001b[0;34m,\u001b[0m \u001b[0mgraph\u001b[0m\u001b[0;34m,\u001b[0m \u001b[0mconfig\u001b[0m\u001b[0;34m=\u001b[0m\u001b[0mconfig\u001b[0m\u001b[0;34m)\u001b[0m\u001b[0;34m\u001b[0m\u001b[0m\n\u001b[0m\u001b[1;32m   1564\u001b[0m     \u001b[0;31m# NOTE(mrry): Create these on first `__enter__` to avoid a reference cycle.\u001b[0m\u001b[0;34m\u001b[0m\u001b[0;34m\u001b[0m\u001b[0m\n\u001b[1;32m   1565\u001b[0m     \u001b[0mself\u001b[0m\u001b[0;34m.\u001b[0m\u001b[0m_default_graph_context_manager\u001b[0m \u001b[0;34m=\u001b[0m \u001b[0;32mNone\u001b[0m\u001b[0;34m\u001b[0m\u001b[0m\n",
      "\u001b[0;32m~/work/anaconda3/lib/python3.6/site-packages/tensorflow/python/client/session.py\u001b[0m in \u001b[0;36m__init__\u001b[0;34m(self, target, graph, config)\u001b[0m\n\u001b[1;32m    631\u001b[0m       \u001b[0;32mif\u001b[0m \u001b[0mself\u001b[0m\u001b[0;34m.\u001b[0m\u001b[0m_created_with_new_api\u001b[0m\u001b[0;34m:\u001b[0m\u001b[0;34m\u001b[0m\u001b[0m\n\u001b[1;32m    632\u001b[0m         \u001b[0;31m# pylint: disable=protected-access\u001b[0m\u001b[0;34m\u001b[0m\u001b[0;34m\u001b[0m\u001b[0m\n\u001b[0;32m--> 633\u001b[0;31m         \u001b[0mself\u001b[0m\u001b[0;34m.\u001b[0m\u001b[0m_session\u001b[0m \u001b[0;34m=\u001b[0m \u001b[0mtf_session\u001b[0m\u001b[0;34m.\u001b[0m\u001b[0mTF_NewSession\u001b[0m\u001b[0;34m(\u001b[0m\u001b[0mself\u001b[0m\u001b[0;34m.\u001b[0m\u001b[0m_graph\u001b[0m\u001b[0;34m.\u001b[0m\u001b[0m_c_graph\u001b[0m\u001b[0;34m,\u001b[0m \u001b[0mopts\u001b[0m\u001b[0;34m)\u001b[0m\u001b[0;34m\u001b[0m\u001b[0m\n\u001b[0m\u001b[1;32m    634\u001b[0m         \u001b[0;31m# pylint: enable=protected-access\u001b[0m\u001b[0;34m\u001b[0m\u001b[0;34m\u001b[0m\u001b[0m\n\u001b[1;32m    635\u001b[0m       \u001b[0;32melse\u001b[0m\u001b[0;34m:\u001b[0m\u001b[0;34m\u001b[0m\u001b[0m\n",
      "\u001b[0;31mInternalError\u001b[0m: Failed to create session."
     ]
    }
   ],
   "source": [
    "\n",
    "model.fit_generator(\n",
    "    train_generator,\n",
    "    #steps_per_epoch=nb_train_samples // batch_size,\n",
    "    steps_per_epoch=nb_train_samples, \n",
    "    epochs=epochs,\n",
    "    validation_data=validation_generator,\n",
    "    #validation_steps=nb_validation_samples // batch_size,\n",
    "    validation_steps=nb_validation_samples,\n",
    "    callbacks=callbacks_list)\n",
    "\n"
   ]
  },
  {
   "cell_type": "code",
   "execution_count": null,
   "metadata": {},
   "outputs": [],
   "source": [
    "model.save_weights('smorking.h5')\n"
   ]
  },
  {
   "cell_type": "code",
   "execution_count": 465,
   "metadata": {},
   "outputs": [
    {
     "data": {
      "image/png": "[encoded data removed]",
      "text/plain": [
       "<PIL.Image.Image image mode=RGB size=150x150 at 0x7FC9EF2D1DA0>"
      ]
     },
     "execution_count": 465,
     "metadata": {},
     "output_type": "execute_result"
    }
   ],
   "source": [
    "import numpy as np\n",
    "from keras.preprocessing import image\n",
    "test_image = image.load_img('dataset/single_prediction/smo.jpg', target_size= (150,150))\n",
    "test_image"
   ]
  },
  {
   "cell_type": "code",
   "execution_count": 466,
   "metadata": {},
   "outputs": [],
   "source": [
    "test_image = image.img_to_array(test_image)\n",
    "\n",
    "#test_image"
   ]
  },
  {
   "cell_type": "code",
   "execution_count": 467,
   "metadata": {},
   "outputs": [
    {
     "data": {
      "text/plain": [
       "numpy.ndarray"
      ]
     },
     "execution_count": 467,
     "metadata": {},
     "output_type": "execute_result"
    }
   ],
   "source": [
    "type(test_image)"
   ]
  },
  {
   "cell_type": "code",
   "execution_count": 468,
   "metadata": {},
   "outputs": [
    {
     "data": {
      "text/plain": [
       "(150, 150, 3)"
      ]
     },
     "execution_count": 468,
     "metadata": {},
     "output_type": "execute_result"
    }
   ],
   "source": [
    "test_image.shape"
   ]
  },
  {
   "cell_type": "code",
   "execution_count": 469,
   "metadata": {},
   "outputs": [],
   "source": [
    "test_image = np.expand_dims(test_image, axis = 0)"
   ]
  },
  {
   "cell_type": "code",
   "execution_count": 470,
   "metadata": {},
   "outputs": [
    {
     "data": {
      "text/plain": [
       "array([[[1, 2, 3],\n",
       "        [4, 5, 6]]])"
      ]
     },
     "execution_count": 470,
     "metadata": {},
     "output_type": "execute_result"
    }
   ],
   "source": [
    "a = np.array([[1,2,3],[4,5,6]])\n",
    "a.shape\n",
    "\n",
    "np.expand_dims(a, axis = 0)"
   ]
  },
  {
   "cell_type": "code",
   "execution_count": 471,
   "metadata": {},
   "outputs": [],
   "source": [
    "result = model.predict_classes(test_image)\n"
   ]
  },
  {
   "cell_type": "code",
   "execution_count": 472,
   "metadata": {},
   "outputs": [
    {
     "data": {
      "text/plain": [
       "array([[0]], dtype=int32)"
      ]
     },
     "execution_count": 472,
     "metadata": {},
     "output_type": "execute_result"
    }
   ],
   "source": [
    "result"
   ]
  },
  {
   "cell_type": "code",
   "execution_count": null,
   "metadata": {},
   "outputs": [],
   "source": []
  },
  {
   "cell_type": "code",
   "execution_count": null,
   "metadata": {},
   "outputs": [],
   "source": []
  },
  {
   "cell_type": "code",
   "execution_count": null,
   "metadata": {},
   "outputs": [],
   "source": []
  },
  {
   "cell_type": "code",
   "execution_count": null,
   "metadata": {},
   "outputs": [],
   "source": []
  },
  {
   "cell_type": "code",
   "execution_count": null,
   "metadata": {},
   "outputs": [],
   "source": []
  },
  {
   "cell_type": "code",
   "execution_count": null,
   "metadata": {},
   "outputs": [],
   "source": []
  },
  {
   "cell_type": "code",
   "execution_count": null,
   "metadata": {},
   "outputs": [],
   "source": []
  },
  {
   "cell_type": "code",
   "execution_count": null,
   "metadata": {},
   "outputs": [],
   "source": []
  },
  {
   "cell_type": "code",
   "execution_count": null,
   "metadata": {},
   "outputs": [],
   "source": []
  },
  {
   "cell_type": "code",
   "execution_count": null,
   "metadata": {},
   "outputs": [],
   "source": []
  },
  {
   "cell_type": "code",
   "execution_count": null,
   "metadata": {},
   "outputs": [],
   "source": []
  }
 ],
 "metadata": {
  "kernelspec": {
   "display_name": "Python 3",
   "language": "python",
   "name": "python3"
  },
  "language_info": {
   "codemirror_mode": {
    "name": "ipython",
    "version": 3
   },
   "file_extension": ".py",
   "mimetype": "text/x-python",
   "name": "python",
   "nbconvert_exporter": "python",
   "pygments_lexer": "ipython3",
   "version": "3.6.5"
  }
 },
 "nbformat": 4,
 "nbformat_minor": 2
}
