{
 "cells": [
  {
   "cell_type": "code",
   "execution_count": 1,
   "metadata": {},
   "outputs": [
    {
     "name": "stderr",
     "output_type": "stream",
     "text": [
      "/home/aewin/work/anaconda3/lib/python3.6/site-packages/h5py/__init__.py:36: FutureWarning: Conversion of the second argument of issubdtype from `float` to `np.floating` is deprecated. In future, it will be treated as `np.float64 == np.dtype(float).type`.\n",
      "  from ._conv import register_converters as _register_converters\n"
     ]
    }
   ],
   "source": [
    "import tensorflow as tf\n",
    "import time"
   ]
  },
  {
   "cell_type": "code",
   "execution_count": 2,
   "metadata": {},
   "outputs": [
    {
     "name": "stdout",
     "output_type": "stream",
     "text": [
      "result= 9961.622\n"
     ]
    }
   ],
   "source": [
    "size=500\n",
    "W = tf.random_normal([size, size],name='W')\n",
    "X = tf.random_normal([size, size],name='X')\n",
    "mul = tf.matmul(W, X,name='mul')\n",
    "sum_result = tf.reduce_sum(mul,name='sum')\n",
    "\n",
    "with tf.Session() as sess:\n",
    "    result = sess.run(sum_result)\n",
    "print('result=',result)    "
   ]
  },
  {
   "cell_type": "code",
   "execution_count": 3,
   "metadata": {},
   "outputs": [],
   "source": [
    "size=500\n",
    "W = tf.random_normal([size, size],name='W')\n",
    "X = tf.random_normal([size, size],name='X')\n",
    "mul = tf.matmul(W, X,name='mul')\n",
    "sum_result = tf.reduce_sum(mul,name='sum')\n",
    "\n",
    "tfconfig=tf.ConfigProto(log_device_placement=True)\n",
    "with tf.Session(config=tfconfig) as sess:\n",
    "        result = sess.run(sum_result)"
   ]
  },
  {
   "cell_type": "code",
   "execution_count": 4,
   "metadata": {},
   "outputs": [],
   "source": [
    "size=500\n",
    "with tf.device(\"/cpu:0\"):\n",
    "    W = tf.random_normal([size, size],name='W')\n",
    "    X = tf.random_normal([size, size],name='X')\n",
    "    mul = tf.matmul(W, X,name='mul')\n",
    "    sum_result = tf.reduce_sum(mul,name='sum')\n",
    "\n",
    "tfconfig=tf.ConfigProto(log_device_placement=True)\n",
    "with tf.Session(config=tfconfig) as sess:\n",
    "        result = sess.run(sum_result)"
   ]
  },
  {
   "cell_type": "code",
   "execution_count": 5,
   "metadata": {},
   "outputs": [],
   "source": [
    "size=500\n",
    "with tf.device(\"/gpu:0\"):\n",
    "    W = tf.random_normal([size, size],name='W')\n",
    "    X = tf.random_normal([size, size],name='X')\n",
    "    mul = tf.matmul(W, X,name='mul')\n",
    "    sum_result = tf.reduce_sum(mul,name='sum')\n",
    "\n",
    "tfconfig=tf.ConfigProto(log_device_placement=True)\n",
    "with tf.Session(config=tfconfig) as sess:\n",
    "        result = sess.run(sum_result)"
   ]
  },
  {
   "cell_type": "code",
   "execution_count": 6,
   "metadata": {},
   "outputs": [],
   "source": [
    "def performanceTest(device_name,size):\n",
    "    with tf.device(device_name):\n",
    "        W = tf.random_normal([size, size],name='W')\n",
    "        X = tf.random_normal([size, size],name='X')\n",
    "        mul = tf.matmul(W, X,name='mul')\n",
    "        sum_result = tf.reduce_sum(mul,name='sum')\n",
    "\n",
    "    startTime = time.time() \n",
    "    tfconfig=tf.ConfigProto(log_device_placement=True)\n",
    "    with tf.Session(config=tfconfig) as sess:\n",
    "        result = sess.run(sum_result)\n",
    "    takeTimes=time.time()  - startTime   \n",
    "    print(device_name,\" size=\",size,\"Time:\",takeTimes )\n",
    "    return takeTimes"
   ]
  },
  {
   "cell_type": "code",
   "execution_count": 7,
   "metadata": {},
   "outputs": [
    {
     "name": "stdout",
     "output_type": "stream",
     "text": [
      "/gpu:0  size= 100 Time: 0.007662057876586914\n",
      "/cpu:0  size= 100 Time: 0.0075452327728271484\n"
     ]
    }
   ],
   "source": [
    "g=performanceTest(\"/gpu:0\",100)\n",
    "c=performanceTest(\"/cpu:0\",100)"
   ]
  },
  {
   "cell_type": "code",
   "execution_count": 8,
   "metadata": {},
   "outputs": [
    {
     "name": "stdout",
     "output_type": "stream",
     "text": [
      "/gpu:0  size= 200 Time: 0.007742404937744141\n",
      "/cpu:0  size= 200 Time: 0.012971162796020508\n"
     ]
    }
   ],
   "source": [
    "g=performanceTest(\"/gpu:0\",200)\n",
    "c=performanceTest(\"/cpu:0\",200)\n"
   ]
  },
  {
   "cell_type": "code",
   "execution_count": 9,
   "metadata": {},
   "outputs": [
    {
     "name": "stdout",
     "output_type": "stream",
     "text": [
      "/gpu:0  size= 1000 Time: 0.009371757507324219\n",
      "/cpu:0  size= 1000 Time: 0.02425360679626465\n"
     ]
    }
   ],
   "source": [
    "g=performanceTest(\"/gpu:0\",1000)\n",
    "c=performanceTest(\"/cpu:0\",1000)\n"
   ]
  },
  {
   "cell_type": "code",
   "execution_count": 10,
   "metadata": {},
   "outputs": [
    {
     "name": "stdout",
     "output_type": "stream",
     "text": [
      "/gpu:0  size= 5000 Time: 0.04298114776611328\n",
      "/cpu:0  size= 5000 Time: 0.5044822692871094\n"
     ]
    }
   ],
   "source": [
    "g=performanceTest(\"/gpu:0\",5000)\n",
    "c=performanceTest(\"/cpu:0\",5000)\n"
   ]
  },
  {
   "cell_type": "code",
   "execution_count": 11,
   "metadata": {},
   "outputs": [
    {
     "name": "stdout",
     "output_type": "stream",
     "text": [
      "/gpu:0  size= 0 Time: 0.010344982147216797\n",
      "/cpu:0  size= 0 Time: 0.01032567024230957\n",
      "--\n",
      "/gpu:0  size= 500 Time: 0.010841608047485352\n",
      "/cpu:0  size= 500 Time: 0.011895179748535156\n",
      "--\n",
      "/gpu:0  size= 1000 Time: 0.009723901748657227\n",
      "/cpu:0  size= 1000 Time: 0.020137310028076172\n",
      "--\n",
      "/gpu:0  size= 1500 Time: 0.012123823165893555\n",
      "/cpu:0  size= 1500 Time: 0.032436370849609375\n",
      "--\n",
      "/gpu:0  size= 2000 Time: 0.014134883880615234\n",
      "/cpu:0  size= 2000 Time: 0.04824399948120117\n",
      "--\n",
      "/gpu:0  size= 2500 Time: 0.01606440544128418\n",
      "/cpu:0  size= 2500 Time: 0.08010554313659668\n",
      "--\n",
      "/gpu:0  size= 3000 Time: 0.019727468490600586\n",
      "/cpu:0  size= 3000 Time: 0.13328766822814941\n",
      "--\n",
      "/gpu:0  size= 3500 Time: 0.024005413055419922\n",
      "/cpu:0  size= 3500 Time: 0.20032930374145508\n",
      "--\n",
      "/gpu:0  size= 4000 Time: 0.03177237510681152\n",
      "/cpu:0  size= 4000 Time: 0.2955741882324219\n",
      "--\n",
      "/gpu:0  size= 4500 Time: 0.03911638259887695\n",
      "/cpu:0  size= 4500 Time: 0.387279748916626\n",
      "--\n",
      "/gpu:0  size= 5000 Time: 0.04836916923522949\n",
      "/cpu:0  size= 5000 Time: 0.514655590057373\n",
      "--\n",
      "/gpu:0  size= 5500 Time: 0.05757594108581543\n",
      "/cpu:0  size= 5500 Time: 0.6591596603393555\n",
      "--\n",
      "/gpu:0  size= 6000 Time: 0.07005453109741211\n",
      "/cpu:0  size= 6000 Time: 0.818777322769165\n",
      "--\n",
      "/gpu:0  size= 6500 Time: 0.0882880687713623\n",
      "/cpu:0  size= 6500 Time: 1.0564610958099365\n",
      "--\n",
      "/gpu:0  size= 7000 Time: 0.10514283180236816\n",
      "/cpu:0  size= 7000 Time: 1.271211862564087\n",
      "--\n",
      "/gpu:0  size= 7500 Time: 0.12595748901367188\n",
      "/cpu:0  size= 7500 Time: 1.4975433349609375\n",
      "--\n",
      "/gpu:0  size= 8000 Time: 0.13692927360534668\n",
      "/cpu:0  size= 8000 Time: 1.8094630241394043\n",
      "--\n",
      "/gpu:0  size= 8500 Time: 0.16019368171691895\n",
      "/cpu:0  size= 8500 Time: 2.1886136531829834\n",
      "--\n",
      "/gpu:0  size= 9000 Time: 0.1875159740447998\n",
      "/cpu:0  size= 9000 Time: 2.33734393119812\n",
      "--\n",
      "/gpu:0  size= 9500 Time: 0.2179710865020752\n",
      "/cpu:0  size= 9500 Time: 2.642180919647217\n",
      "--\n",
      "/gpu:0  size= 10000 Time: 0.26488280296325684\n",
      "/cpu:0  size= 10000 Time: 3.2901949882507324\n",
      "--\n",
      "/gpu:0  size= 10500 Time: 0.28696298599243164\n",
      "/cpu:0  size= 10500 Time: 3.5355889797210693\n",
      "--\n",
      "/gpu:0  size= 11000 Time: 0.3195838928222656\n",
      "/cpu:0  size= 11000 Time: 3.730604410171509\n",
      "--\n",
      "/gpu:0  size= 11500 Time: 0.36437439918518066\n",
      "/cpu:0  size= 11500 Time: 4.139970302581787\n",
      "--\n",
      "/gpu:0  size= 12000 Time: 0.40954041481018066\n",
      "/cpu:0  size= 12000 Time: 4.748239040374756\n",
      "--\n",
      "/gpu:0  size= 12500 Time: 0.4609713554382324\n",
      "/cpu:0  size= 12500 Time: 6.103303909301758\n",
      "--\n",
      "/gpu:0  size= 13000 Time: 0.5150539875030518\n",
      "/cpu:0  size= 13000 Time: 5.705285310745239\n",
      "--\n",
      "/gpu:0  size= 13500 Time: 0.5806300640106201\n",
      "/cpu:0  size= 13500 Time: 6.025621175765991\n",
      "--\n",
      "/gpu:0  size= 14000 Time: 0.6438705921173096\n",
      "/cpu:0  size= 14000 Time: 6.431192636489868\n",
      "--\n",
      "/gpu:0  size= 14500 Time: 0.7304825782775879\n",
      "/cpu:0  size= 14500 Time: 7.563579559326172\n",
      "--\n",
      "/gpu:0  size= 15000 Time: 0.785367488861084\n",
      "/cpu:0  size= 15000 Time: 7.300335645675659\n",
      "--\n"
     ]
    }
   ],
   "source": [
    "gpu_set=[];cpu_set=[];i_set=[]\n",
    "for i in range(0,15001,500):\n",
    "    g=performanceTest(\"/gpu:0\",i)\n",
    "    c=performanceTest(\"/cpu:0\",i)\n",
    "    gpu_set.append(g);cpu_set.append(c);i_set.append(i)\n",
    "    print(\"--\")"
   ]
  },
  {
   "cell_type": "code",
   "execution_count": 12,
   "metadata": {},
   "outputs": [
    {
     "data": {
      "text/plain": [
       "<matplotlib.legend.Legend at 0x7f78307d27b8>"
      ]
     },
     "execution_count": 12,
     "metadata": {},
     "output_type": "execute_result"
    },
    {
     "data": {
      "image/png": "[encoded data removed]",
      "text/plain": [
       "<Figure size 432x288 with 1 Axes>"
      ]
     },
     "metadata": {},
     "output_type": "display_data"
    }
   ],
   "source": [
    "%matplotlib inline\n",
    "import matplotlib.pyplot as plt\n",
    "fig = plt.gcf()\n",
    "fig.set_size_inches(6,4)\n",
    "plt.plot(i_set, gpu_set, label = 'gpu')\n",
    "plt.plot(i_set, cpu_set, label = 'cpu')\n",
    "plt.legend()"
   ]
  },
  {
   "cell_type": "code",
   "execution_count": 13,
   "metadata": {},
   "outputs": [],
   "source": [
    "#g=performanceTest(\"/gpu:0\",7000)"
   ]
  },
  {
   "cell_type": "code",
   "execution_count": null,
   "metadata": {},
   "outputs": [],
   "source": []
  },
  {
   "cell_type": "code",
   "execution_count": null,
   "metadata": {},
   "outputs": [],
   "source": []
  },
  {
   "cell_type": "code",
   "execution_count": null,
   "metadata": {},
   "outputs": [],
   "source": []
  },
  {
   "cell_type": "code",
   "execution_count": null,
   "metadata": {},
   "outputs": [],
   "source": []
  },
  {
   "cell_type": "code",
   "execution_count": null,
   "metadata": {},
   "outputs": [],
   "source": []
  },
  {
   "cell_type": "code",
   "execution_count": null,
   "metadata": {},
   "outputs": [],
   "source": []
  },
  {
   "cell_type": "code",
   "execution_count": null,
   "metadata": {},
   "outputs": [],
   "source": []
  }
 ],
 "metadata": {
  "kernelspec": {
   "display_name": "Python 3",
   "language": "python",
   "name": "python3"
  },
  "language_info": {
   "codemirror_mode": {
    "name": "ipython",
    "version": 3
   },
   "file_extension": ".py",
   "mimetype": "text/x-python",
   "name": "python",
   "nbconvert_exporter": "python",
   "pygments_lexer": "ipython3",
   "version": "3.6.5"
  }
 },
 "nbformat": 4,
 "nbformat_minor": 2
}
