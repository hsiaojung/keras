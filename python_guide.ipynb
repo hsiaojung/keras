{
 "cells": [
  {
   "cell_type": "markdown",
   "metadata": {},
   "source": [
    "## command line fot ipython to py\n"
   ]
  },
  {
   "cell_type": "markdown",
   "metadata": {},
   "source": [
    "- ipython nbconvert --to=python Python_Guide.ipynb\n",
    "\n",
    "\n"
   ]
  },
  {
   "cell_type": "markdown",
   "metadata": {},
   "source": [
    "## EXample for Learning\n"
   ]
  },
  {
   "cell_type": "code",
   "execution_count": 3,
   "metadata": {},
   "outputs": [
    {
     "name": "stdout",
     "output_type": "stream",
     "text": [
      "list1[1]:  Runoob\n",
      "list1 ['Google', 'Runoob', 1997, 2000]\n",
      "list2[1:10]:  [101, 102, 103, 104, 105, 106, 107, 108, 109]\n",
      "list2[0]:  100\n",
      "list2[0:1]:  [100]\n",
      "list2[10:]:  [110, 11, 12, 13, 14, 15, 16, 17, 18, 19, 20, 21, 21, 22, 23, 24, 25, 26]\n",
      "list2[10:]:  [110, 11, 12, 13, 14, 15, 16, 17, 18, 19, 20, 21, 21, 22, 23, 24, 25, 26]\n"
     ]
    }
   ],
   "source": [
    "list1 = ['Google', 'Runoob', 1997, 2000];\n",
    "\n",
    "list2 = [100,101 ,102, 103, 104, 105, 106, 107,108,109,110,11,12,13,14,15,16,17,18,19,20,21,21,22,23,24,25,26];\n",
    " \n",
    "print (\"list1[1]: \", list1[1])\n",
    "print (\"list1\", list1)\n",
    "print (\"list2[1:10]: \", list2[1:10])\n",
    "print (\"list2[0]: \",  list2[0])  ## 印出第7-10筆 的資料\n",
    "print (\"list2[0:1]: \",  list2[0:1])  ## 印出第7-10筆 的資料\n",
    "print (\"list2[10:]: \",  list2[10:])  ## 印出第10筆 \"之後:\"開始算的資料\n",
    "print (\"list2[10:]: \",  list2[10:])  ## 印出第10筆 \"之後:\"開始算的資料\n",
    "\n"
   ]
  },
  {
   "cell_type": "code",
   "execution_count": 136,
   "metadata": {},
   "outputs": [
    {
     "name": "stdout",
     "output_type": "stream",
     "text": [
      "list2[:3]:  [100, 101, 102]\n"
     ]
    }
   ],
   "source": [
    "print (\"list2[:3]: \", list2[:3])"
   ]
  },
  {
   "cell_type": "code",
   "execution_count": 128,
   "metadata": {},
   "outputs": [
    {
     "name": "stdout",
     "output_type": "stream",
     "text": [
      "list2[1:]:  [2, 3, 4, 5, 6, 7]\n"
     ]
    }
   ],
   "source": [
    "print (\"list2[1:]: \", list2[1:])"
   ]
  },
  {
   "cell_type": "code",
   "execution_count": null,
   "metadata": {},
   "outputs": [],
   "source": []
  },
  {
   "cell_type": "code",
   "execution_count": null,
   "metadata": {},
   "outputs": [],
   "source": []
  },
  {
   "cell_type": "code",
   "execution_count": null,
   "metadata": {},
   "outputs": [],
   "source": []
  },
  {
   "cell_type": "code",
   "execution_count": null,
   "metadata": {},
   "outputs": [],
   "source": []
  },
  {
   "cell_type": "code",
   "execution_count": null,
   "metadata": {},
   "outputs": [],
   "source": []
  }
 ],
 "metadata": {
  "kernelspec": {
   "display_name": "Python 3",
   "language": "python",
   "name": "python3"
  },
  "language_info": {
   "codemirror_mode": {
    "name": "ipython",
    "version": 3
   },
   "file_extension": ".py",
   "mimetype": "text/x-python",
   "name": "python",
   "nbconvert_exporter": "python",
   "pygments_lexer": "ipython3",
   "version": "3.6.5"
  }
 },
 "nbformat": 4,
 "nbformat_minor": 2
}
