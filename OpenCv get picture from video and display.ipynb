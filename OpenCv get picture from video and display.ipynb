{
 "cells": [
  {
   "cell_type": "code",
   "execution_count": null,
   "metadata": {},
   "outputs": [],
   "source": [
    "! pip install opencv-python"
   ]
  },
  {
   "cell_type": "code",
   "execution_count": null,
   "metadata": {},
   "outputs": [],
   "source": [
    "import os\n",
    "import cv2\n",
    "from matplotlib import pyplot as plt\n",
    "\n",
    "import glob\n",
    "import numpy as np\n",
    "import os.path as path\n",
    "from scipy import misc\n",
    "\n",
    "\n",
    "video_data_dir = '../dataset/source/smorking.mp4'\n",
    "\n",
    "vidcap = cv2.VideoCapture(video_data_dir)\n",
    "\n",
    "\n",
    "video_fps= int(vidcap.get(cv2.CAP_PROP_FPS))\n",
    "print (\"CAP_PROP_FPS= \",video_fps)\n",
    "\n",
    "video_pos = int(vidcap.get(cv2.CAP_PROP_POS_MSEC))\n",
    "print (\"CAP_PROP_POS_MSEC= \",video_pos)\n",
    "\n",
    "video_w = int(vidcap.get(cv2.CAP_PROP_FRAME_WIDTH))\n",
    "print (\"CAP_PROP_FRAME_WIDTH= \",video_w)\n",
    "\n",
    "video_h = int(vidcap.get(cv2.CAP_PROP_FRAME_HEIGHT))\n",
    "print (\"CAP_PROP_FRAME_HEIGHT= \",video_h)\n",
    "\n",
    "\n",
    "video_l = int(vidcap.get(cv2.CAP_PROP_FRAME_COUNT))\n",
    "print (\"CAP_PROP_FRAME_COUNT = \",video_l)\n",
    "\n",
    "count = 0\n",
    "\n",
    "while count < video_l:\n",
    "    \n",
    "   #print (count, \" < video_l\")\n",
    "   count = count + video_fps\n",
    "   vidcap.set(cv2.CAP_PROP_POS_FRAMES, count) \n",
    "   success,image = vidcap.read()\n",
    "   images = np.asarray(image)\n",
    "   cv2.imwrite(\"../dataset/source/out/frame%d.jpg\" % count, image)\n",
    "    #vidcap.imwrite(str(count)+'.jpg', img[, params]) → retval¶\n",
    "else:\n",
    "   print ( \"done, count\", video_l)\n",
    "\n",
    "\n",
    "img = cv2.imread('../dataset/source/out/frame50.jpg')\n",
    "plt.imshow(img)\n",
    "#type(img)\n",
    "#cv2.imshow('image',img)\n",
    "#cv2.waitKey(0)\n",
    "#cv2.destroyAllWindows()\n",
    "'''\n",
    "success,image = vidcap.read()\n",
    "if success:\n",
    "    cv2.imwrite(\"daframe20sec.jpg\", image)     # save frame as JPEG file\n",
    "    cv2.imshow(\"20sec\",image)\n",
    "    cv2.waitKey()                    \n",
    "'''"
   ]
  },
  {
   "cell_type": "code",
   "execution_count": null,
   "metadata": {},
   "outputs": [],
   "source": [
    "img.shape\n"
   ]
  },
  {
   "cell_type": "code",
   "execution_count": null,
   "metadata": {},
   "outputs": [],
   "source": [
    "type(img)"
   ]
  },
  {
   "cell_type": "code",
   "execution_count": null,
   "metadata": {},
   "outputs": [],
   "source": [
    "images.shape"
   ]
  },
  {
   "cell_type": "code",
   "execution_count": null,
   "metadata": {},
   "outputs": [],
   "source": [
    "type(images)"
   ]
  },
  {
   "cell_type": "code",
   "execution_count": 108,
   "metadata": {},
   "outputs": [
    {
     "name": "stdout",
     "output_type": "stream",
     "text": [
      "Released Video Resource\n"
     ]
    },
    {
     "data": {
      "text/plain": [
       "' \\nif vc.isOpened(): # try to get the first frame\\n    is_capturing, frame = vc.read()\\n    frame = cv2.cvtColor(frame, cv2.COLOR_BGR2RGB)    # makes the blues image look real colored\\n    webcam_preview = plt.imshow(frame)    \\nelse:\\n    is_capturing = False\\n \\nwhile is_capturing:\\n    try:    # Lookout for a keyboardInterrupt to stop the script\\n        is_capturing, frame = vc.read()\\n        frame = cv2.cvtColor(frame, cv2.COLOR_BGR2RGB)    # makes the blues image look real colored\\n        webcam_preview.set_data(frame)\\n        plt.draw()\\n \\n        display.clear_output(wait=True)\\n        display.display(plt.gcf())\\n \\n        plt.pause(0.001)    # the pause time is = 1 / framerate\\n    except KeyboardInterrupt:\\n        vc.release()'"
      ]
     },
     "execution_count": 108,
     "metadata": {},
     "output_type": "execute_result"
    }
   ],
   "source": [
    "# Import the required modules\n",
    "%pylab inline \n",
    "import cv2\n",
    "from IPython.display import clear_output\n",
    "\n",
    "# Grab the input device, in this case the webcam\n",
    "# You can also give path to the video file\n",
    "vid = cv2.VideoCapture(\"../dataset/source/smorking.mp4\")\n",
    "\n",
    "# Put the code in try-except statements\n",
    "# Catch the keyboard exception and \n",
    "# release the camera device and \n",
    "# continue with the rest of code.\n",
    "#plt.figure(figsize = (10,10))\n",
    "#fig = plt.figure()\n",
    "#print (\"fig = \") \n",
    "#<Figure size 432x288 with 0 Axes>\n",
    "\n",
    "label = \"predict Smorking =  \"\n",
    "#'''\n",
    "try:\n",
    "    while(True):\n",
    "        # Capture frame-by-frame\n",
    "        ret, frame = vid.read()\n",
    "        if not ret:\n",
    "            # Release the Video Device if ret is false\n",
    "            vid.release()\n",
    "            # Message to be displayed after releasing the device\n",
    "            print(\"Released Video Resource\")\n",
    "            break\n",
    "        # Convert the image from OpenCV BGR format to matplotlib RGB format\n",
    "        # to display the image\n",
    "        frame = cv2.cvtColor(frame, cv2.COLOR_BGR2RGB)\n",
    "        # put text into image \n",
    "        # https://blog.csdn.net/GAN_player/article/details/78155283\n",
    "        cv2.putText(frame, label, (30, 60),  cv2.FONT_HERSHEY_SIMPLEX,0.9, (255,255, 255), 2)\n",
    "        \n",
    "        #cv2.line(影像, 開始座標, 結束座標, 顏色, 線條寬度)\n",
    "        cv2.line(frame, (0, 0), (432, 0),     (255,0,0),  12)\n",
    "        cv2.line(frame, (0, 0), (0, 350),     (255,0,0),  12)\n",
    "        cv2.line(frame, (440, 0),(440, 440),  (255,0,0),  12)\n",
    "        cv2.line(frame, (0, 330),(440, 330),(255,0,0),12)\n",
    "        \n",
    "        # Turn off the axis\n",
    "        #plt.axis('off')\n",
    "        \n",
    "        # Title of the window\n",
    "        plt.title(\"Input Stream\")\n",
    "        # Display the frame\n",
    "        plt.imshow(frame)\n",
    "        plt.show()\n",
    "        # Display the frame until new frame is available\n",
    "        clear_output(wait=True)\n",
    "except KeyboardInterrupt:\n",
    "    # Release the Video Device\n",
    "    vid.release()\n",
    "    # Message to be displayed after releasing the device\n",
    "    #print(\"Released Video Resource\")\n",
    "    \n",
    "#'''    \n",
    "''' \n",
    "if vc.isOpened(): # try to get the first frame\n",
    "    is_capturing, frame = vc.read()\n",
    "    frame = cv2.cvtColor(frame, cv2.COLOR_BGR2RGB)    # makes the blues image look real colored\n",
    "    webcam_preview = plt.imshow(frame)    \n",
    "else:\n",
    "    is_capturing = False\n",
    " \n",
    "while is_capturing:\n",
    "    try:    # Lookout for a keyboardInterrupt to stop the script\n",
    "        is_capturing, frame = vc.read()\n",
    "        frame = cv2.cvtColor(frame, cv2.COLOR_BGR2RGB)    # makes the blues image look real colored\n",
    "        webcam_preview.set_data(frame)\n",
    "        plt.draw()\n",
    " \n",
    "        display.clear_output(wait=True)\n",
    "        display.display(plt.gcf())\n",
    " \n",
    "        plt.pause(0.001)    # the pause time is = 1 / framerate\n",
    "    except KeyboardInterrupt:\n",
    "        vc.release()'''    "
   ]
  },
  {
   "cell_type": "code",
   "execution_count": null,
   "metadata": {},
   "outputs": [],
   "source": []
  },
  {
   "cell_type": "code",
   "execution_count": null,
   "metadata": {},
   "outputs": [],
   "source": []
  },
  {
   "cell_type": "code",
   "execution_count": null,
   "metadata": {},
   "outputs": [],
   "source": []
  },
  {
   "cell_type": "code",
   "execution_count": null,
   "metadata": {},
   "outputs": [],
   "source": []
  },
  {
   "cell_type": "code",
   "execution_count": null,
   "metadata": {},
   "outputs": [],
   "source": []
  },
  {
   "cell_type": "code",
   "execution_count": null,
   "metadata": {},
   "outputs": [],
   "source": []
  },
  {
   "cell_type": "code",
   "execution_count": null,
   "metadata": {},
   "outputs": [],
   "source": []
  }
 ],
 "metadata": {
  "kernelspec": {
   "display_name": "Python 3",
   "language": "python",
   "name": "python3"
  },
  "language_info": {
   "codemirror_mode": {
    "name": "ipython",
    "version": 3
   },
   "file_extension": ".py",
   "mimetype": "text/x-python",
   "name": "python",
   "nbconvert_exporter": "python",
   "pygments_lexer": "ipython3",
   "version": "3.6.5"
  }
 },
 "nbformat": 4,
 "nbformat_minor": 2
}
